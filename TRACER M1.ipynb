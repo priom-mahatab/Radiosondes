{
 "cells": [
  {
   "cell_type": "code",
   "execution_count": 2,
   "id": "3c64a701-9655-4c61-8f03-2f7a653c974c",
   "metadata": {},
   "outputs": [],
   "source": [
    "import os\n",
    "from datetime import datetime\n",
    "from metpy.units import units\n",
    "import matplotlib.gridspec as gridspec\n",
    "import pandas as pd\n",
    "import matplotlib.pyplot as plt\n",
    "import metpy.plots as plots\n",
    "from metpy.plots import SkewT, Hodograph\n",
    "import metpy.calc as mpcalc\n",
    "from metpy.calc import lcl, parcel_profile, cape_cin, lifted_index\n",
    "import numpy as np\n",
    "%matplotlib inline"
   ]
  },
  {
   "cell_type": "code",
   "execution_count": 3,
   "id": "380c7078-db08-4db1-ac3b-72ad53e7ed16",
   "metadata": {},
   "outputs": [],
   "source": [
    "input_folder = \"/Users/zmahatab/Desktop/MetPy/TRACER_M1/Data\"\n",
    "output_folder = \"/Users/zmahatab/Desktop/MetPy/TRACER_M1/Plots\""
   ]
  },
  {
   "cell_type": "code",
   "execution_count": 6,
   "id": "08b28b84-d495-4d83-a199-1fb770c98b09",
   "metadata": {},
   "outputs": [],
   "source": [
    "# ensuring output folder exists\n",
    "os.makedirs(output_folder, exist_ok=True)"
   ]
  },
  {
   "cell_type": "code",
   "execution_count": 16,
   "id": "726ec928-1c9d-47f1-abd3-7eacfaf52f19",
   "metadata": {
    "jupyter": {
     "source_hidden": true
    }
   },
   "outputs": [],
   "source": [
    "# looping through all the files from input folder\n",
    "def skewT_generator_11(input_folder, output_folder):\n",
    "    for filename in os.listdir(input_folder):\n",
    "        if filename.endswith(\".csv\"):\n",
    "            parts = filename.split(\".\")\n",
    "            if len(parts) >= 5: # ensuring the file has correct naming format\n",
    "                date_part = parts[2] #YYYYMMDD\n",
    "                time_part = parts[3] # HHMMSS\n",
    "                hour_part = parts[3][:2] # HH\n",
    "    \n",
    "                if hour_part == \"11\":\n",
    "                    file_path = os.path.join(input_folder, filename)\n",
    "    \n",
    "                    # Format date: YYYYMMDD -> MM-DD-YYYY\n",
    "                    formatted_date = f\"{date_part[4:6]}-{date_part[6:8]}-{date_part[:4]}\"\n",
    "    \n",
    "                    # Format time: HHMMSS -> HH:MM\n",
    "                    formatted_time = f\"{time_part[:2]}:{time_part[2:4]}\"\n",
    "                    print(f\"Processing {filename}\")\n",
    "    \n",
    "                    data = pd.read_csv(file_path)\n",
    "    \n",
    "                    # extracting data\n",
    "                    pressure = data['pres'].values * units.hPa\n",
    "                    dry_temp = data['tdry'].values * units.degC\n",
    "                    dew_point = data['dp'].values * units.degC\n",
    "                    wind_speed = data['wspd'].values * units.knot\n",
    "                    u_wind = data['u_wind'].values * units.knot\n",
    "                    v_wind = data['v_wind'].values * units.knot\n",
    "                    height = data['alt'].values * units.metre\n",
    "    \n",
    "                    if pressure.size == 0 or dry_temp.size == 0 or dew_point.size == 0:\n",
    "                        print(f\"Skipping {filename} due to empty data.\")\n",
    "                        continue\n",
    "    \n",
    "                    # initializing figure and slots\n",
    "                    fig = plt.figure(figsize=(12,8))\n",
    "                    gs = gridspec.GridSpec(2, 1, height_ratios=[5,2.5])\n",
    "                    gs_bottom = gridspec.GridSpecFromSubplotSpec(1,2, subplot_spec=gs[1], width_ratios=[3,2])\n",
    "    \n",
    "                    # SkewT\n",
    "                    skew = plots.SkewT(fig, subplot=gs[0])\n",
    "                    skew.ax.set_xlim(-90,30)\n",
    "                    skew.ax.set_ylim(1050,100)\n",
    "    \n",
    "                    # hodograph\n",
    "                    ax_hod = fig.add_subplot(gs_bottom[0])\n",
    "                    hod = Hodograph(ax_hod, component_range=40)\n",
    "                    hod.add_grid(increment=10)\n",
    "                    hod.add_grid(increment=20, color='tab:orange', linestyle='-')\n",
    "    \n",
    "                    # plotting\n",
    "                    skew.plot(pressure, dry_temp, 'red', label='Temperature')\n",
    "                    skew.plot(pressure, dew_point, 'green', label='Dew Point')\n",
    "    \n",
    "                    hod.plot_colormapped(u_wind, v_wind, wind_speed, linewidth=2)\n",
    "    \n",
    "                    # fixing wind barbs\n",
    "                    interval = np.logspace(2, 3) * units.hPa\n",
    "                    idx = mpcalc.resample_nn_1d(pressure, interval)\n",
    "                    skew.plot_barbs(pressure[idx][::2], u_wind[idx][::2], v_wind[idx][::2])\n",
    "                    \n",
    "                    # parcel path\n",
    "                    parcel_path = mpcalc.parcel_profile(pressure, dry_temp[0], dew_point[0])\n",
    "           \n",
    "                    # stats\n",
    "                    lfc_pressure, lfc_temp = mpcalc.lfc(pressure, dry_temp, dew_point)\n",
    "                    lcl_pressure, lcl_temp = mpcalc.lcl(pressure[0], dry_temp[0], dew_point[0])\n",
    "                    surface_cape, surface_cin = mpcalc.surface_based_cape_cin(pressure, dry_temp, dew_point)\n",
    "                    li = lifted_index(pressure, dry_temp, parcel_path)\n",
    "                    el = mpcalc.el(pressure, dry_temp, dew_point)\n",
    "                    try:\n",
    "                        mu_cape, mu_cin = mpcalc.most_unstable_cape_cin(pressure, dry_temp, dew_point)\n",
    "                    except ValueError as e:\n",
    "                        print(f\"Skipping file due to error: {e}\")\n",
    "                        continue\n",
    "    \n",
    "                    # fiducial lines\n",
    "                    skew.plot_dry_adiabats()\n",
    "                    skew.plot_moist_adiabats()\n",
    "                    skew.plot_mixing_lines()\n",
    "    \n",
    "                    skew.plot(pressure, parcel_path, color='black')\n",
    "                    skew.shade_cape(pressure, dry_temp, parcel_path)\n",
    "                    skew.shade_cin(pressure, dry_temp, parcel_path)\n",
    "                    \n",
    "                    # horizontal lines\n",
    "                    skew.ax.axhline(el[0], color=\"blue\", label=\"Equilibrium level\")\n",
    "                    skew.ax.axhline(lfc_pressure, color=\"purple\", label=\"LFC Pressure\")\n",
    "                    skew.ax.axhline(lcl_pressure, color=\"orange\", label=\"LFC Pressure\")\n",
    "    \n",
    "                    title = f\"TRACER M1 {formatted_date} {formatted_time}\"\n",
    "                    skew.ax.set_title(title, fontsize=10)\n",
    "                    skew.ax.legend(loc='upper right', bbox_to_anchor=(0.95, 1), fontsize=10, frameon=True)\n",
    "    \n",
    "                    # stats axis\n",
    "                    ax_stats = fig.add_subplot(gs_bottom[1])\n",
    "                    ax_stats.set_xticks([])\n",
    "                    ax_stats.set_yticks([])\n",
    "                    ax_stats.spines['top'].set_visible(False)\n",
    "                    ax_stats.spines['bottom'].set_visible(False)\n",
    "                    ax_stats.spines['left'].set_visible(False)\n",
    "                    ax_stats.spines['right'].set_visible(False)\n",
    "\n",
    "                    # stats dictionary\n",
    "                    stats_values = {\n",
    "                        r\"MUCAPE (J$\\,$kg$^{-1}$)\": mu_cape.magnitude,\n",
    "                        r\"MUCIN (J$\\,$kg$^{-1}$)\": mu_cin.magnitude,\n",
    "                        r\"Surface CAPE (J$\\,$kg$^{-1}$)\": surface_cape.magnitude,\n",
    "                        r\"Surface CIN (J$\\,$kg$^{-1}$)\": surface_cin.magnitude,\n",
    "                        \"LCL Pressure (hPa)\": lcl_pressure.magnitude,\n",
    "                        r\"LCL Temperature ($^\\circ$C)\": lcl_temp.magnitude,\n",
    "                        \"LFC Pressure (hPa)\": lfc_pressure.magnitude,\n",
    "                        r\"LFC Temperature ($^\\circ$C)\": lfc_temp.magnitude,\n",
    "                        \"Equilibrium Level (hPa)\": el[0].magnitude,\n",
    "                        r\"Equilibrium Level ($^\\circ$C)\": li.magnitude.item()\n",
    "                    }\n",
    "    \n",
    "                    # value location\n",
    "                    x_left = -0.3\n",
    "                    x_right = 0.4\n",
    "                    \n",
    "                    y_start = 0.95\n",
    "                    y_spacing = 0.1\n",
    "    \n",
    "                    for i, (label, value) in enumerate(stats_values.items()):\n",
    "                        ax_stats.text(x_left, y_start - i * y_spacing, f\"{label}:\", fontsize=10, ha='left', va='top', family='monospace') # labels\n",
    "                        ax_stats.text(x_right, y_start - i * y_spacing, f\"{value:.2f}\", fontsize=10, ha='right', va='top',family='monospace') # values\n",
    "    \n",
    "                    plt.tight_layout()\n",
    "    \n",
    "                    ax_hod.set_position([0.19, 0.05, 0.25, 0.25])\n",
    "    \n",
    "                    save_path = f\"{output_folder}/TRACERM1.{date_part}.{time_part}.stats.png\"\n",
    "                    fig.savefig(save_path, dpi=300)"
   ]
  },
  {
   "cell_type": "code",
   "execution_count": 24,
   "id": "a36357df-1d98-4275-81bf-f227ed8e387e",
   "metadata": {
    "jupyter": {
     "source_hidden": true
    }
   },
   "outputs": [],
   "source": [
    "def skewT_generator_17(input_folder, output_folder):\n",
    "    for filename in os.listdir(input_folder):\n",
    "        if filename.endswith(\"csv\"):\n",
    "            parts = filename.split(\".\")\n",
    "            if len(parts) >= 5: # ensuring the file has correct naming format\n",
    "                date_part = parts[2] #YYYYMMDD\n",
    "                time_part = parts[3] # HHMMSS\n",
    "                hour_part = parts[3][:2] # HH\n",
    "    \n",
    "                if hour_part == \"17\":\n",
    "                    file_path = os.path.join(input_folder, filename)\n",
    "\n",
    "                    # Format date: YYYYMMDD -> MM-DD-YYYY\n",
    "                    formatted_date = f\"{date_part[4:6]}-{date_part[6:8]}-{date_part[:4]}\"\n",
    "    \n",
    "                    # Format time: HHMMSS -> HH:MM\n",
    "                    formatted_time = f\"{time_part[:2]}:{time_part[2:4]}\"\n",
    "                    print(f\"Processing {filename}\")\n",
    "    \n",
    "                    data = pd.read_csv(file_path)\n",
    "    \n",
    "                    # extracting data\n",
    "                    pressure = data['pres'].values * units.hPa\n",
    "                    dry_temp = data['tdry'].values * units.degC\n",
    "                    dew_point = data['dp'].values * units.degC\n",
    "                    wind_speed = data['wspd'].values * units.knot\n",
    "                    u_wind = data['u_wind'].values * units.knot\n",
    "                    v_wind = data['v_wind'].values * units.knot\n",
    "                    height = data['alt'].values * units.metre\n",
    "    \n",
    "                    if pressure.size == 0 or dry_temp.size == 0 or dew_point.size == 0:\n",
    "                        print(f\"Skipping {filename} due to empty data.\")\n",
    "                        continue\n",
    "\n",
    "                    # initializing figure and slots\n",
    "                    fig = plt.figure(figsize=(12,8))\n",
    "                    gs = gridspec.GridSpec(2, 1, height_ratios=[5,2.5])\n",
    "                    gs_bottom = gridspec.GridSpecFromSubplotSpec(1,2, subplot_spec=gs[1], width_ratios=[3,2])\n",
    "    \n",
    "                    # SkewT\n",
    "                    skew = plots.SkewT(fig, subplot=gs[0])\n",
    "                    skew.ax.set_xlim(-90,30)\n",
    "                    skew.ax.set_ylim(1050,100)\n",
    "    \n",
    "                    # hodograph\n",
    "                    ax_hod = fig.add_subplot(gs_bottom[0])\n",
    "                    hod = Hodograph(ax_hod, component_range=40)\n",
    "                    hod.add_grid(increment=10)\n",
    "                    hod.add_grid(increment=20, color='tab:orange', linestyle='-')\n",
    "    \n",
    "                    # plotting\n",
    "                    skew.plot(pressure, dry_temp, 'red', label='Temperature', linestyle=\"dashed\", alpha=0.6)\n",
    "                    skew.plot(pressure, dew_point, 'green', label='Dew Point', linestyle=\"dashed\", alpha=0.6)\n",
    "\n",
    "                    hod.plot_colormapped(u_wind, v_wind, wind_speed, linewidth=2)\n",
    "    \n",
    "                    # fixing wind barbs\n",
    "                    interval = np.logspace(2, 3) * units.hPa\n",
    "                    idx = mpcalc.resample_nn_1d(pressure, interval)\n",
    "                    skew.plot_barbs(pressure[idx][::2], u_wind[idx][::2], v_wind[idx][::2], color=\"red\")\n",
    "                    \n",
    "                    # parcel path\n",
    "                    parcel_path = mpcalc.parcel_profile(pressure, dry_temp[0], dew_point[0])\n",
    "           \n",
    "                    # stats\n",
    "                    lfc_pressure, lfc_temp = mpcalc.lfc(pressure, dry_temp, dew_point)\n",
    "                    lcl_pressure, lcl_temp = mpcalc.lcl(pressure[0], dry_temp[0], dew_point[0])\n",
    "                    surface_cape, surface_cin = mpcalc.surface_based_cape_cin(pressure, dry_temp, dew_point)\n",
    "                    li = lifted_index(pressure, dry_temp, parcel_path)\n",
    "                    el = mpcalc.el(pressure, dry_temp, dew_point)\n",
    "                    try:\n",
    "                        mu_cape, mu_cin = mpcalc.most_unstable_cape_cin(pressure, dry_temp, dew_point)\n",
    "                    except ValueError as e:\n",
    "                        print(f\"Skipping file due to error: {e}\")\n",
    "                        continue\n",
    "\n",
    "                    # fiducial lines\n",
    "                    skew.plot_dry_adiabats(linestyle=\"dashed\", alpha=0.6)\n",
    "                    skew.plot_moist_adiabats(linestyle=\"dashed\", alpha=0.6)\n",
    "                    skew.plot_mixing_lines(linestyle=\"dashed\", alpha=0.6)\n",
    "    \n",
    "                    skew.plot(pressure, parcel_path, color='black', linestyle=\"dashed\", alpha=0.6)\n",
    "                    skew.shade_cape(pressure, dry_temp, parcel_path)\n",
    "                    skew.shade_cin(pressure, dry_temp, parcel_path)\n",
    "                    \n",
    "                    # horizontal lines\n",
    "                    skew.ax.axhline(el[0], color=\"blue\", label=\"Equilibrium level\", linestyle=\"dashed\", alpha=0.6)\n",
    "                    skew.ax.axhline(lfc_pressure, color=\"purple\", label=\"LFC Pressure\", linestyle=\"dashed\", alpha=0.6)\n",
    "                    skew.ax.axhline(lcl_pressure, color=\"orange\", label=\"LFC Pressure\", linestyle=\"dashed\", alpha=0.6)\n",
    "    \n",
    "                    title = f\"TRACER M1 {formatted_date} {formatted_time}\"\n",
    "                    skew.ax.set_title(title, fontsize=10)\n",
    "                    skew.ax.legend(loc='upper right', bbox_to_anchor=(0.95, 1), fontsize=10, frameon=True)\n",
    "\n",
    "                    # stats axis\n",
    "                    ax_stats = fig.add_subplot(gs_bottom[1])\n",
    "                    ax_stats.set_xticks([])\n",
    "                    ax_stats.set_yticks([])\n",
    "                    ax_stats.spines['top'].set_visible(False)\n",
    "                    ax_stats.spines['bottom'].set_visible(False)\n",
    "                    ax_stats.spines['left'].set_visible(False)\n",
    "                    ax_stats.spines['right'].set_visible(False)\n",
    "\n",
    "                    # stats dictionary\n",
    "                    stats_values = {\n",
    "                        r\"MUCAPE (J$\\,$kg$^{-1}$)\": mu_cape.magnitude,\n",
    "                        r\"MUCIN (J$\\,$kg$^{-1}$)\": mu_cin.magnitude,\n",
    "                        r\"Surface CAPE (J$\\,$kg$^{-1}$)\": surface_cape.magnitude,\n",
    "                        r\"Surface CIN (J$\\,$kg$^{-1}$)\": surface_cin.magnitude,\n",
    "                        \"LCL Pressure (hPa)\": lcl_pressure.magnitude,\n",
    "                        r\"LCL Temperature ($^\\circ$C)\": lcl_temp.magnitude,\n",
    "                        \"LFC Pressure (hPa)\": lfc_pressure.magnitude,\n",
    "                        r\"LFC Temperature ($^\\circ$C)\": lfc_temp.magnitude,\n",
    "                        \"Equilibrium Level (hPa)\": el[0].magnitude,\n",
    "                        r\"Equilibrium Level ($^\\circ$C)\": li.magnitude.item()\n",
    "                    }\n",
    "    \n",
    "                    # value location\n",
    "                    x_left = -0.3\n",
    "                    x_right = 0.4\n",
    "                    \n",
    "                    y_start = 0.95\n",
    "                    y_spacing = 0.1\n",
    "\n",
    "                    for i, (label, value) in enumerate(stats_values.items()):\n",
    "                        ax_stats.text(x_left, y_start - i * y_spacing, f\"{label}:\", fontsize=10, ha='left', va='top', family='monospace') # labels\n",
    "                        ax_stats.text(x_right, y_start - i * y_spacing, f\"{value:.2f}\", fontsize=10, ha='right', va='top',family='monospace') # values\n",
    "    \n",
    "                    plt.tight_layout()\n",
    "    \n",
    "                    ax_hod.set_position([0.19, 0.05, 0.25, 0.25])\n",
    "    \n",
    "                    save_path = f\"{output_folder}/TRACERM1.{date_part}.{time_part}.stats.png\"\n",
    "                    fig.savefig(save_path, dpi=300)"
   ]
  },
  {
   "cell_type": "code",
   "execution_count": null,
   "id": "49910ee3-5334-4c3c-808a-b724b9c2d5fb",
   "metadata": {},
   "outputs": [],
   "source": [
    "skewT_generator_11(input_folder, output_folder)"
   ]
  },
  {
   "cell_type": "code",
   "execution_count": 16,
   "id": "abdac6bc-8051-4627-9f11-2b1137f26d69",
   "metadata": {
    "collapsed": true,
    "jupyter": {
     "outputs_hidden": true,
     "source_hidden": true
    }
   },
   "outputs": [
    {
     "name": "stdout",
     "output_type": "stream",
     "text": [
      "Processing housondewnpnM1.b1.20211014.173000.custom.csv\n"
     ]
    },
    {
     "name": "stderr",
     "output_type": "stream",
     "text": [
      "/var/folders/lr/66xm8rws2s5c0mc7z6b3y_d00000gn/T/ipykernel_26339/1217691197.py:63: UserWarning: Duplicate pressure(s) [20.27] hPa provided. Output profile includes duplicate temperatures as a result.\n",
      "  parcel_path = mpcalc.parcel_profile(pressure, dry_temp[0], dew_point[0])\n",
      "/var/folders/lr/66xm8rws2s5c0mc7z6b3y_d00000gn/T/ipykernel_26339/1217691197.py:66: UserWarning: Duplicate pressure(s) [20.27] hPa provided. Output profile includes duplicate temperatures as a result.\n",
      "  lfc_pressure, lfc_temp = mpcalc.lfc(pressure, dry_temp, dew_point)\n",
      "/var/folders/lr/66xm8rws2s5c0mc7z6b3y_d00000gn/T/ipykernel_26339/1217691197.py:68: UserWarning: Duplicate pressure(s) [20.27] hPa provided. Output profile includes duplicate temperatures as a result.\n",
      "  surface_cape, surface_cin = mpcalc.surface_based_cape_cin(pressure, dry_temp, dew_point)\n",
      "/var/folders/lr/66xm8rws2s5c0mc7z6b3y_d00000gn/T/ipykernel_26339/1217691197.py:70: UserWarning: Duplicate pressure(s) [20.27] hPa provided. Output profile includes duplicate temperatures as a result.\n",
      "  el = mpcalc.el(pressure, dry_temp, dew_point)\n",
      "/var/folders/lr/66xm8rws2s5c0mc7z6b3y_d00000gn/T/ipykernel_26339/1217691197.py:72: UserWarning: Duplicate pressure(s) [20.27] hPa provided. Output profile includes duplicate temperatures as a result.\n",
      "  mu_cape, mu_cin = mpcalc.most_unstable_cape_cin(pressure, dry_temp, dew_point)\n"
     ]
    },
    {
     "name": "stdout",
     "output_type": "stream",
     "text": [
      "Processing housondewnpnM1.b1.20211020.173000.custom.csv\n"
     ]
    },
    {
     "name": "stderr",
     "output_type": "stream",
     "text": [
      "/var/folders/lr/66xm8rws2s5c0mc7z6b3y_d00000gn/T/ipykernel_26339/1217691197.py:63: UserWarning: Duplicate pressure(s) [18.21] hPa provided. Output profile includes duplicate temperatures as a result.\n",
      "  parcel_path = mpcalc.parcel_profile(pressure, dry_temp[0], dew_point[0])\n",
      "/var/folders/lr/66xm8rws2s5c0mc7z6b3y_d00000gn/T/ipykernel_26339/1217691197.py:66: UserWarning: Duplicate pressure(s) [18.21] hPa provided. Output profile includes duplicate temperatures as a result.\n",
      "  lfc_pressure, lfc_temp = mpcalc.lfc(pressure, dry_temp, dew_point)\n",
      "/var/folders/lr/66xm8rws2s5c0mc7z6b3y_d00000gn/T/ipykernel_26339/1217691197.py:68: UserWarning: Duplicate pressure(s) [18.21] hPa provided. Output profile includes duplicate temperatures as a result.\n",
      "  surface_cape, surface_cin = mpcalc.surface_based_cape_cin(pressure, dry_temp, dew_point)\n",
      "/var/folders/lr/66xm8rws2s5c0mc7z6b3y_d00000gn/T/ipykernel_26339/1217691197.py:70: UserWarning: Duplicate pressure(s) [18.21] hPa provided. Output profile includes duplicate temperatures as a result.\n",
      "  el = mpcalc.el(pressure, dry_temp, dew_point)\n",
      "/var/folders/lr/66xm8rws2s5c0mc7z6b3y_d00000gn/T/ipykernel_26339/1217691197.py:72: UserWarning: Duplicate pressure(s) [18.21] hPa provided. Output profile includes duplicate temperatures as a result.\n",
      "  mu_cape, mu_cin = mpcalc.most_unstable_cape_cin(pressure, dry_temp, dew_point)\n"
     ]
    },
    {
     "name": "stdout",
     "output_type": "stream",
     "text": [
      "Processing housondewnpnM1.b1.20211019.173300.custom.csv\n"
     ]
    },
    {
     "name": "stderr",
     "output_type": "stream",
     "text": [
      "/var/folders/lr/66xm8rws2s5c0mc7z6b3y_d00000gn/T/ipykernel_26339/1217691197.py:63: UserWarning: Duplicate pressure(s) [13.01 13.02] hPa provided. Output profile includes duplicate temperatures as a result.\n",
      "  parcel_path = mpcalc.parcel_profile(pressure, dry_temp[0], dew_point[0])\n",
      "/var/folders/lr/66xm8rws2s5c0mc7z6b3y_d00000gn/T/ipykernel_26339/1217691197.py:66: UserWarning: Duplicate pressure(s) [13.01 13.02] hPa provided. Output profile includes duplicate temperatures as a result.\n",
      "  lfc_pressure, lfc_temp = mpcalc.lfc(pressure, dry_temp, dew_point)\n",
      "/var/folders/lr/66xm8rws2s5c0mc7z6b3y_d00000gn/T/ipykernel_26339/1217691197.py:68: UserWarning: Duplicate pressure(s) [13.01 13.02] hPa provided. Output profile includes duplicate temperatures as a result.\n",
      "  surface_cape, surface_cin = mpcalc.surface_based_cape_cin(pressure, dry_temp, dew_point)\n",
      "/var/folders/lr/66xm8rws2s5c0mc7z6b3y_d00000gn/T/ipykernel_26339/1217691197.py:70: UserWarning: Duplicate pressure(s) [13.01 13.02] hPa provided. Output profile includes duplicate temperatures as a result.\n",
      "  el = mpcalc.el(pressure, dry_temp, dew_point)\n",
      "/var/folders/lr/66xm8rws2s5c0mc7z6b3y_d00000gn/T/ipykernel_26339/1217691197.py:72: UserWarning: Duplicate pressure(s) [13.01 13.02] hPa provided. Output profile includes duplicate temperatures as a result.\n",
      "  mu_cape, mu_cin = mpcalc.most_unstable_cape_cin(pressure, dry_temp, dew_point)\n"
     ]
    },
    {
     "name": "stdout",
     "output_type": "stream",
     "text": [
      "Processing housondewnpnM1.b1.20211024.173100.custom.csv\n"
     ]
    },
    {
     "name": "stderr",
     "output_type": "stream",
     "text": [
      "/var/folders/lr/66xm8rws2s5c0mc7z6b3y_d00000gn/T/ipykernel_26339/1217691197.py:63: UserWarning: Duplicate pressure(s) [18.68] hPa provided. Output profile includes duplicate temperatures as a result.\n",
      "  parcel_path = mpcalc.parcel_profile(pressure, dry_temp[0], dew_point[0])\n",
      "/var/folders/lr/66xm8rws2s5c0mc7z6b3y_d00000gn/T/ipykernel_26339/1217691197.py:66: UserWarning: Duplicate pressure(s) [18.68] hPa provided. Output profile includes duplicate temperatures as a result.\n",
      "  lfc_pressure, lfc_temp = mpcalc.lfc(pressure, dry_temp, dew_point)\n",
      "/var/folders/lr/66xm8rws2s5c0mc7z6b3y_d00000gn/T/ipykernel_26339/1217691197.py:68: UserWarning: Duplicate pressure(s) [18.68] hPa provided. Output profile includes duplicate temperatures as a result.\n",
      "  surface_cape, surface_cin = mpcalc.surface_based_cape_cin(pressure, dry_temp, dew_point)\n",
      "/var/folders/lr/66xm8rws2s5c0mc7z6b3y_d00000gn/T/ipykernel_26339/1217691197.py:70: UserWarning: Duplicate pressure(s) [18.68] hPa provided. Output profile includes duplicate temperatures as a result.\n",
      "  el = mpcalc.el(pressure, dry_temp, dew_point)\n",
      "/var/folders/lr/66xm8rws2s5c0mc7z6b3y_d00000gn/T/ipykernel_26339/1217691197.py:72: UserWarning: Duplicate pressure(s) [18.68] hPa provided. Output profile includes duplicate temperatures as a result.\n",
      "  mu_cape, mu_cin = mpcalc.most_unstable_cape_cin(pressure, dry_temp, dew_point)\n"
     ]
    },
    {
     "name": "stdout",
     "output_type": "stream",
     "text": [
      "Processing housondewnpnM1.b1.20211025.173700.custom.csv\n"
     ]
    },
    {
     "name": "stderr",
     "output_type": "stream",
     "text": [
      "/var/folders/lr/66xm8rws2s5c0mc7z6b3y_d00000gn/T/ipykernel_26339/1217691197.py:63: UserWarning: Duplicate pressure(s) [15.66] hPa provided. Output profile includes duplicate temperatures as a result.\n",
      "  parcel_path = mpcalc.parcel_profile(pressure, dry_temp[0], dew_point[0])\n",
      "/var/folders/lr/66xm8rws2s5c0mc7z6b3y_d00000gn/T/ipykernel_26339/1217691197.py:66: UserWarning: Duplicate pressure(s) [15.66] hPa provided. Output profile includes duplicate temperatures as a result.\n",
      "  lfc_pressure, lfc_temp = mpcalc.lfc(pressure, dry_temp, dew_point)\n",
      "/var/folders/lr/66xm8rws2s5c0mc7z6b3y_d00000gn/T/ipykernel_26339/1217691197.py:68: UserWarning: Duplicate pressure(s) [15.66] hPa provided. Output profile includes duplicate temperatures as a result.\n",
      "  surface_cape, surface_cin = mpcalc.surface_based_cape_cin(pressure, dry_temp, dew_point)\n",
      "/var/folders/lr/66xm8rws2s5c0mc7z6b3y_d00000gn/T/ipykernel_26339/1217691197.py:70: UserWarning: Duplicate pressure(s) [15.66] hPa provided. Output profile includes duplicate temperatures as a result.\n",
      "  el = mpcalc.el(pressure, dry_temp, dew_point)\n",
      "/var/folders/lr/66xm8rws2s5c0mc7z6b3y_d00000gn/T/ipykernel_26339/1217691197.py:72: UserWarning: Duplicate pressure(s) [15.66] hPa provided. Output profile includes duplicate temperatures as a result.\n",
      "  mu_cape, mu_cin = mpcalc.most_unstable_cape_cin(pressure, dry_temp, dew_point)\n"
     ]
    },
    {
     "name": "stdout",
     "output_type": "stream",
     "text": [
      "Processing housondewnpnM1.b1.20211016.172900.custom.csv\n"
     ]
    },
    {
     "name": "stderr",
     "output_type": "stream",
     "text": [
      "/var/folders/lr/66xm8rws2s5c0mc7z6b3y_d00000gn/T/ipykernel_26339/1217691197.py:63: UserWarning: Duplicate pressure(s) [18.61] hPa provided. Output profile includes duplicate temperatures as a result.\n",
      "  parcel_path = mpcalc.parcel_profile(pressure, dry_temp[0], dew_point[0])\n",
      "/var/folders/lr/66xm8rws2s5c0mc7z6b3y_d00000gn/T/ipykernel_26339/1217691197.py:66: UserWarning: Duplicate pressure(s) [18.61] hPa provided. Output profile includes duplicate temperatures as a result.\n",
      "  lfc_pressure, lfc_temp = mpcalc.lfc(pressure, dry_temp, dew_point)\n",
      "/var/folders/lr/66xm8rws2s5c0mc7z6b3y_d00000gn/T/ipykernel_26339/1217691197.py:68: UserWarning: Duplicate pressure(s) [18.61] hPa provided. Output profile includes duplicate temperatures as a result.\n",
      "  surface_cape, surface_cin = mpcalc.surface_based_cape_cin(pressure, dry_temp, dew_point)\n",
      "/var/folders/lr/66xm8rws2s5c0mc7z6b3y_d00000gn/T/ipykernel_26339/1217691197.py:70: UserWarning: Duplicate pressure(s) [18.61] hPa provided. Output profile includes duplicate temperatures as a result.\n",
      "  el = mpcalc.el(pressure, dry_temp, dew_point)\n",
      "/var/folders/lr/66xm8rws2s5c0mc7z6b3y_d00000gn/T/ipykernel_26339/1217691197.py:72: UserWarning: Duplicate pressure(s) [18.61] hPa provided. Output profile includes duplicate temperatures as a result.\n",
      "  mu_cape, mu_cin = mpcalc.most_unstable_cape_cin(pressure, dry_temp, dew_point)\n"
     ]
    },
    {
     "name": "stdout",
     "output_type": "stream",
     "text": [
      "Processing housondewnpnM1.b1.20211004.174300.custom.csv\n",
      "Processing housondewnpnM1.b1.20211021.172500.custom.csv\n"
     ]
    },
    {
     "name": "stderr",
     "output_type": "stream",
     "text": [
      "/var/folders/lr/66xm8rws2s5c0mc7z6b3y_d00000gn/T/ipykernel_26339/1217691197.py:63: UserWarning: Duplicate pressure(s) [15.32] hPa provided. Output profile includes duplicate temperatures as a result.\n",
      "  parcel_path = mpcalc.parcel_profile(pressure, dry_temp[0], dew_point[0])\n",
      "/var/folders/lr/66xm8rws2s5c0mc7z6b3y_d00000gn/T/ipykernel_26339/1217691197.py:66: UserWarning: Duplicate pressure(s) [15.32] hPa provided. Output profile includes duplicate temperatures as a result.\n",
      "  lfc_pressure, lfc_temp = mpcalc.lfc(pressure, dry_temp, dew_point)\n",
      "/var/folders/lr/66xm8rws2s5c0mc7z6b3y_d00000gn/T/ipykernel_26339/1217691197.py:68: UserWarning: Duplicate pressure(s) [15.32] hPa provided. Output profile includes duplicate temperatures as a result.\n",
      "  surface_cape, surface_cin = mpcalc.surface_based_cape_cin(pressure, dry_temp, dew_point)\n",
      "/var/folders/lr/66xm8rws2s5c0mc7z6b3y_d00000gn/T/ipykernel_26339/1217691197.py:70: UserWarning: Duplicate pressure(s) [15.32] hPa provided. Output profile includes duplicate temperatures as a result.\n",
      "  el = mpcalc.el(pressure, dry_temp, dew_point)\n",
      "/var/folders/lr/66xm8rws2s5c0mc7z6b3y_d00000gn/T/ipykernel_26339/1217691197.py:72: UserWarning: Duplicate pressure(s) [15.32] hPa provided. Output profile includes duplicate temperatures as a result.\n",
      "  mu_cape, mu_cin = mpcalc.most_unstable_cape_cin(pressure, dry_temp, dew_point)\n"
     ]
    },
    {
     "name": "stdout",
     "output_type": "stream",
     "text": [
      "Processing housondewnpnM1.b1.20211030.173300.custom.csv\n",
      "Processing housondewnpnM1.b1.20211010.173000.custom.csv\n"
     ]
    },
    {
     "name": "stderr",
     "output_type": "stream",
     "text": [
      "/var/folders/lr/66xm8rws2s5c0mc7z6b3y_d00000gn/T/ipykernel_26339/1217691197.py:63: UserWarning: Duplicate pressure(s) [17.43] hPa provided. Output profile includes duplicate temperatures as a result.\n",
      "  parcel_path = mpcalc.parcel_profile(pressure, dry_temp[0], dew_point[0])\n",
      "/var/folders/lr/66xm8rws2s5c0mc7z6b3y_d00000gn/T/ipykernel_26339/1217691197.py:66: UserWarning: Duplicate pressure(s) [17.43] hPa provided. Output profile includes duplicate temperatures as a result.\n",
      "  lfc_pressure, lfc_temp = mpcalc.lfc(pressure, dry_temp, dew_point)\n",
      "/var/folders/lr/66xm8rws2s5c0mc7z6b3y_d00000gn/T/ipykernel_26339/1217691197.py:68: UserWarning: Duplicate pressure(s) [17.43] hPa provided. Output profile includes duplicate temperatures as a result.\n",
      "  surface_cape, surface_cin = mpcalc.surface_based_cape_cin(pressure, dry_temp, dew_point)\n",
      "/var/folders/lr/66xm8rws2s5c0mc7z6b3y_d00000gn/T/ipykernel_26339/1217691197.py:70: UserWarning: Duplicate pressure(s) [17.43] hPa provided. Output profile includes duplicate temperatures as a result.\n",
      "  el = mpcalc.el(pressure, dry_temp, dew_point)\n",
      "/var/folders/lr/66xm8rws2s5c0mc7z6b3y_d00000gn/T/ipykernel_26339/1217691197.py:72: UserWarning: Duplicate pressure(s) [17.43] hPa provided. Output profile includes duplicate temperatures as a result.\n",
      "  mu_cape, mu_cin = mpcalc.most_unstable_cape_cin(pressure, dry_temp, dew_point)\n"
     ]
    },
    {
     "name": "stdout",
     "output_type": "stream",
     "text": [
      "Processing housondewnpnM1.b1.20211007.173900.custom.csv\n",
      "Processing housondewnpnM1.b1.20211026.173100.custom.csv\n",
      "Processing housondewnpnM1.b1.20211027.173000.custom.csv\n",
      "Processing housondewnpnM1.b1.20211022.174100.custom.csv\n"
     ]
    },
    {
     "name": "stderr",
     "output_type": "stream",
     "text": [
      "/var/folders/lr/66xm8rws2s5c0mc7z6b3y_d00000gn/T/ipykernel_26339/1217691197.py:63: UserWarning: Duplicate pressure(s) [22.04] hPa provided. Output profile includes duplicate temperatures as a result.\n",
      "  parcel_path = mpcalc.parcel_profile(pressure, dry_temp[0], dew_point[0])\n",
      "/var/folders/lr/66xm8rws2s5c0mc7z6b3y_d00000gn/T/ipykernel_26339/1217691197.py:66: UserWarning: Duplicate pressure(s) [22.04] hPa provided. Output profile includes duplicate temperatures as a result.\n",
      "  lfc_pressure, lfc_temp = mpcalc.lfc(pressure, dry_temp, dew_point)\n",
      "/var/folders/lr/66xm8rws2s5c0mc7z6b3y_d00000gn/T/ipykernel_26339/1217691197.py:68: UserWarning: Duplicate pressure(s) [22.04] hPa provided. Output profile includes duplicate temperatures as a result.\n",
      "  surface_cape, surface_cin = mpcalc.surface_based_cape_cin(pressure, dry_temp, dew_point)\n",
      "/var/folders/lr/66xm8rws2s5c0mc7z6b3y_d00000gn/T/ipykernel_26339/1217691197.py:70: UserWarning: Duplicate pressure(s) [22.04] hPa provided. Output profile includes duplicate temperatures as a result.\n",
      "  el = mpcalc.el(pressure, dry_temp, dew_point)\n",
      "/var/folders/lr/66xm8rws2s5c0mc7z6b3y_d00000gn/T/ipykernel_26339/1217691197.py:72: UserWarning: Duplicate pressure(s) [22.04] hPa provided. Output profile includes duplicate temperatures as a result.\n",
      "  mu_cape, mu_cin = mpcalc.most_unstable_cape_cin(pressure, dry_temp, dew_point)\n"
     ]
    },
    {
     "name": "stdout",
     "output_type": "stream",
     "text": [
      "Processing housondewnpnM1.b1.20211006.173300.custom.csv\n"
     ]
    },
    {
     "name": "stderr",
     "output_type": "stream",
     "text": [
      "/var/folders/lr/66xm8rws2s5c0mc7z6b3y_d00000gn/T/ipykernel_26339/1217691197.py:63: UserWarning: Duplicate pressure(s) [17.04] hPa provided. Output profile includes duplicate temperatures as a result.\n",
      "  parcel_path = mpcalc.parcel_profile(pressure, dry_temp[0], dew_point[0])\n",
      "/var/folders/lr/66xm8rws2s5c0mc7z6b3y_d00000gn/T/ipykernel_26339/1217691197.py:66: UserWarning: Duplicate pressure(s) [17.04] hPa provided. Output profile includes duplicate temperatures as a result.\n",
      "  lfc_pressure, lfc_temp = mpcalc.lfc(pressure, dry_temp, dew_point)\n",
      "/var/folders/lr/66xm8rws2s5c0mc7z6b3y_d00000gn/T/ipykernel_26339/1217691197.py:68: UserWarning: Duplicate pressure(s) [17.04] hPa provided. Output profile includes duplicate temperatures as a result.\n",
      "  surface_cape, surface_cin = mpcalc.surface_based_cape_cin(pressure, dry_temp, dew_point)\n",
      "/var/folders/lr/66xm8rws2s5c0mc7z6b3y_d00000gn/T/ipykernel_26339/1217691197.py:70: UserWarning: Duplicate pressure(s) [17.04] hPa provided. Output profile includes duplicate temperatures as a result.\n",
      "  el = mpcalc.el(pressure, dry_temp, dew_point)\n",
      "/var/folders/lr/66xm8rws2s5c0mc7z6b3y_d00000gn/T/ipykernel_26339/1217691197.py:72: UserWarning: Duplicate pressure(s) [17.04] hPa provided. Output profile includes duplicate temperatures as a result.\n",
      "  mu_cape, mu_cin = mpcalc.most_unstable_cape_cin(pressure, dry_temp, dew_point)\n"
     ]
    },
    {
     "name": "stdout",
     "output_type": "stream",
     "text": [
      "Processing housondewnpnM1.b1.20211012.173000.custom.csv\n"
     ]
    },
    {
     "name": "stderr",
     "output_type": "stream",
     "text": [
      "/var/folders/lr/66xm8rws2s5c0mc7z6b3y_d00000gn/T/ipykernel_26339/1217691197.py:63: UserWarning: Duplicate pressure(s) [12.08] hPa provided. Output profile includes duplicate temperatures as a result.\n",
      "  parcel_path = mpcalc.parcel_profile(pressure, dry_temp[0], dew_point[0])\n",
      "/var/folders/lr/66xm8rws2s5c0mc7z6b3y_d00000gn/T/ipykernel_26339/1217691197.py:66: UserWarning: Duplicate pressure(s) [12.08] hPa provided. Output profile includes duplicate temperatures as a result.\n",
      "  lfc_pressure, lfc_temp = mpcalc.lfc(pressure, dry_temp, dew_point)\n",
      "/var/folders/lr/66xm8rws2s5c0mc7z6b3y_d00000gn/T/ipykernel_26339/1217691197.py:68: UserWarning: Duplicate pressure(s) [12.08] hPa provided. Output profile includes duplicate temperatures as a result.\n",
      "  surface_cape, surface_cin = mpcalc.surface_based_cape_cin(pressure, dry_temp, dew_point)\n",
      "/var/folders/lr/66xm8rws2s5c0mc7z6b3y_d00000gn/T/ipykernel_26339/1217691197.py:70: UserWarning: Duplicate pressure(s) [12.08] hPa provided. Output profile includes duplicate temperatures as a result.\n",
      "  el = mpcalc.el(pressure, dry_temp, dew_point)\n",
      "/var/folders/lr/66xm8rws2s5c0mc7z6b3y_d00000gn/T/ipykernel_26339/1217691197.py:72: UserWarning: Duplicate pressure(s) [12.08] hPa provided. Output profile includes duplicate temperatures as a result.\n",
      "  mu_cape, mu_cin = mpcalc.most_unstable_cape_cin(pressure, dry_temp, dew_point)\n"
     ]
    },
    {
     "name": "stdout",
     "output_type": "stream",
     "text": [
      "Processing housondewnpnM1.b1.20211002.173200.custom.csv\n"
     ]
    },
    {
     "name": "stderr",
     "output_type": "stream",
     "text": [
      "/var/folders/lr/66xm8rws2s5c0mc7z6b3y_d00000gn/T/ipykernel_26339/1217691197.py:63: UserWarning: Duplicate pressure(s) [23.28] hPa provided. Output profile includes duplicate temperatures as a result.\n",
      "  parcel_path = mpcalc.parcel_profile(pressure, dry_temp[0], dew_point[0])\n",
      "/var/folders/lr/66xm8rws2s5c0mc7z6b3y_d00000gn/T/ipykernel_26339/1217691197.py:66: UserWarning: Duplicate pressure(s) [23.28] hPa provided. Output profile includes duplicate temperatures as a result.\n",
      "  lfc_pressure, lfc_temp = mpcalc.lfc(pressure, dry_temp, dew_point)\n",
      "/var/folders/lr/66xm8rws2s5c0mc7z6b3y_d00000gn/T/ipykernel_26339/1217691197.py:68: UserWarning: Duplicate pressure(s) [23.28] hPa provided. Output profile includes duplicate temperatures as a result.\n",
      "  surface_cape, surface_cin = mpcalc.surface_based_cape_cin(pressure, dry_temp, dew_point)\n",
      "/var/folders/lr/66xm8rws2s5c0mc7z6b3y_d00000gn/T/ipykernel_26339/1217691197.py:70: UserWarning: Duplicate pressure(s) [23.28] hPa provided. Output profile includes duplicate temperatures as a result.\n",
      "  el = mpcalc.el(pressure, dry_temp, dew_point)\n",
      "/var/folders/lr/66xm8rws2s5c0mc7z6b3y_d00000gn/T/ipykernel_26339/1217691197.py:72: UserWarning: Duplicate pressure(s) [23.28] hPa provided. Output profile includes duplicate temperatures as a result.\n",
      "  mu_cape, mu_cin = mpcalc.most_unstable_cape_cin(pressure, dry_temp, dew_point)\n"
     ]
    },
    {
     "name": "stdout",
     "output_type": "stream",
     "text": [
      "Processing housondewnpnM1.b1.20211017.172700.custom.csv\n",
      "Processing housondewnpnM1.b1.20211005.172900.custom.csv\n"
     ]
    },
    {
     "name": "stderr",
     "output_type": "stream",
     "text": [
      "/var/folders/lr/66xm8rws2s5c0mc7z6b3y_d00000gn/T/ipykernel_26339/1217691197.py:36: RuntimeWarning: More than 20 figures have been opened. Figures created through the pyplot interface (`matplotlib.pyplot.figure`) are retained until explicitly closed and may consume too much memory. (To control this warning, see the rcParam `figure.max_open_warning`). Consider using `matplotlib.pyplot.close()`.\n",
      "  fig = plt.figure(figsize=(12,8))\n",
      "/var/folders/lr/66xm8rws2s5c0mc7z6b3y_d00000gn/T/ipykernel_26339/1217691197.py:63: UserWarning: Duplicate pressure(s) [16.47] hPa provided. Output profile includes duplicate temperatures as a result.\n",
      "  parcel_path = mpcalc.parcel_profile(pressure, dry_temp[0], dew_point[0])\n",
      "/var/folders/lr/66xm8rws2s5c0mc7z6b3y_d00000gn/T/ipykernel_26339/1217691197.py:66: UserWarning: Duplicate pressure(s) [16.47] hPa provided. Output profile includes duplicate temperatures as a result.\n",
      "  lfc_pressure, lfc_temp = mpcalc.lfc(pressure, dry_temp, dew_point)\n",
      "/var/folders/lr/66xm8rws2s5c0mc7z6b3y_d00000gn/T/ipykernel_26339/1217691197.py:68: UserWarning: Duplicate pressure(s) [16.47] hPa provided. Output profile includes duplicate temperatures as a result.\n",
      "  surface_cape, surface_cin = mpcalc.surface_based_cape_cin(pressure, dry_temp, dew_point)\n",
      "/var/folders/lr/66xm8rws2s5c0mc7z6b3y_d00000gn/T/ipykernel_26339/1217691197.py:70: UserWarning: Duplicate pressure(s) [16.47] hPa provided. Output profile includes duplicate temperatures as a result.\n",
      "  el = mpcalc.el(pressure, dry_temp, dew_point)\n",
      "/var/folders/lr/66xm8rws2s5c0mc7z6b3y_d00000gn/T/ipykernel_26339/1217691197.py:72: UserWarning: Duplicate pressure(s) [16.47] hPa provided. Output profile includes duplicate temperatures as a result.\n",
      "  mu_cape, mu_cin = mpcalc.most_unstable_cape_cin(pressure, dry_temp, dew_point)\n"
     ]
    },
    {
     "name": "stdout",
     "output_type": "stream",
     "text": [
      "Processing housondewnpnM1.b1.20211013.173300.custom.csv\n",
      "Processing housondewnpnM1.b1.20211001.172900.custom.csv\n",
      "Processing housondewnpnM1.b1.20211023.173300.custom.csv\n",
      "Processing housondewnpnM1.b1.20211018.172900.custom.csv\n"
     ]
    },
    {
     "name": "stderr",
     "output_type": "stream",
     "text": [
      "/var/folders/lr/66xm8rws2s5c0mc7z6b3y_d00000gn/T/ipykernel_26339/1217691197.py:63: UserWarning: Duplicate pressure(s) [14.65] hPa provided. Output profile includes duplicate temperatures as a result.\n",
      "  parcel_path = mpcalc.parcel_profile(pressure, dry_temp[0], dew_point[0])\n",
      "/var/folders/lr/66xm8rws2s5c0mc7z6b3y_d00000gn/T/ipykernel_26339/1217691197.py:66: UserWarning: Duplicate pressure(s) [14.65] hPa provided. Output profile includes duplicate temperatures as a result.\n",
      "  lfc_pressure, lfc_temp = mpcalc.lfc(pressure, dry_temp, dew_point)\n",
      "/var/folders/lr/66xm8rws2s5c0mc7z6b3y_d00000gn/T/ipykernel_26339/1217691197.py:68: UserWarning: Duplicate pressure(s) [14.65] hPa provided. Output profile includes duplicate temperatures as a result.\n",
      "  surface_cape, surface_cin = mpcalc.surface_based_cape_cin(pressure, dry_temp, dew_point)\n",
      "/var/folders/lr/66xm8rws2s5c0mc7z6b3y_d00000gn/T/ipykernel_26339/1217691197.py:70: UserWarning: Duplicate pressure(s) [14.65] hPa provided. Output profile includes duplicate temperatures as a result.\n",
      "  el = mpcalc.el(pressure, dry_temp, dew_point)\n",
      "/var/folders/lr/66xm8rws2s5c0mc7z6b3y_d00000gn/T/ipykernel_26339/1217691197.py:72: UserWarning: Duplicate pressure(s) [14.65] hPa provided. Output profile includes duplicate temperatures as a result.\n",
      "  mu_cape, mu_cin = mpcalc.most_unstable_cape_cin(pressure, dry_temp, dew_point)\n"
     ]
    },
    {
     "name": "stdout",
     "output_type": "stream",
     "text": [
      "Processing housondewnpnM1.b1.20211008.173400.custom.csv\n"
     ]
    },
    {
     "name": "stderr",
     "output_type": "stream",
     "text": [
      "/var/folders/lr/66xm8rws2s5c0mc7z6b3y_d00000gn/T/ipykernel_26339/1217691197.py:63: UserWarning: Duplicate pressure(s) [13.54] hPa provided. Output profile includes duplicate temperatures as a result.\n",
      "  parcel_path = mpcalc.parcel_profile(pressure, dry_temp[0], dew_point[0])\n",
      "/var/folders/lr/66xm8rws2s5c0mc7z6b3y_d00000gn/T/ipykernel_26339/1217691197.py:66: UserWarning: Duplicate pressure(s) [13.54] hPa provided. Output profile includes duplicate temperatures as a result.\n",
      "  lfc_pressure, lfc_temp = mpcalc.lfc(pressure, dry_temp, dew_point)\n",
      "/var/folders/lr/66xm8rws2s5c0mc7z6b3y_d00000gn/T/ipykernel_26339/1217691197.py:68: UserWarning: Duplicate pressure(s) [13.54] hPa provided. Output profile includes duplicate temperatures as a result.\n",
      "  surface_cape, surface_cin = mpcalc.surface_based_cape_cin(pressure, dry_temp, dew_point)\n",
      "/var/folders/lr/66xm8rws2s5c0mc7z6b3y_d00000gn/T/ipykernel_26339/1217691197.py:70: UserWarning: Duplicate pressure(s) [13.54] hPa provided. Output profile includes duplicate temperatures as a result.\n",
      "  el = mpcalc.el(pressure, dry_temp, dew_point)\n",
      "/var/folders/lr/66xm8rws2s5c0mc7z6b3y_d00000gn/T/ipykernel_26339/1217691197.py:72: UserWarning: Duplicate pressure(s) [13.54] hPa provided. Output profile includes duplicate temperatures as a result.\n",
      "  mu_cape, mu_cin = mpcalc.most_unstable_cape_cin(pressure, dry_temp, dew_point)\n"
     ]
    },
    {
     "name": "stdout",
     "output_type": "stream",
     "text": [
      "Processing housondewnpnM1.b1.20211009.173500.custom.csv\n"
     ]
    },
    {
     "name": "stderr",
     "output_type": "stream",
     "text": [
      "/var/folders/lr/66xm8rws2s5c0mc7z6b3y_d00000gn/T/ipykernel_26339/1217691197.py:63: UserWarning: Duplicate pressure(s) [13.73] hPa provided. Output profile includes duplicate temperatures as a result.\n",
      "  parcel_path = mpcalc.parcel_profile(pressure, dry_temp[0], dew_point[0])\n",
      "/var/folders/lr/66xm8rws2s5c0mc7z6b3y_d00000gn/T/ipykernel_26339/1217691197.py:66: UserWarning: Duplicate pressure(s) [13.73] hPa provided. Output profile includes duplicate temperatures as a result.\n",
      "  lfc_pressure, lfc_temp = mpcalc.lfc(pressure, dry_temp, dew_point)\n",
      "/var/folders/lr/66xm8rws2s5c0mc7z6b3y_d00000gn/T/ipykernel_26339/1217691197.py:68: UserWarning: Duplicate pressure(s) [13.73] hPa provided. Output profile includes duplicate temperatures as a result.\n",
      "  surface_cape, surface_cin = mpcalc.surface_based_cape_cin(pressure, dry_temp, dew_point)\n",
      "/var/folders/lr/66xm8rws2s5c0mc7z6b3y_d00000gn/T/ipykernel_26339/1217691197.py:70: UserWarning: Duplicate pressure(s) [13.73] hPa provided. Output profile includes duplicate temperatures as a result.\n",
      "  el = mpcalc.el(pressure, dry_temp, dew_point)\n",
      "/var/folders/lr/66xm8rws2s5c0mc7z6b3y_d00000gn/T/ipykernel_26339/1217691197.py:72: UserWarning: Duplicate pressure(s) [13.73] hPa provided. Output profile includes duplicate temperatures as a result.\n",
      "  mu_cape, mu_cin = mpcalc.most_unstable_cape_cin(pressure, dry_temp, dew_point)\n"
     ]
    },
    {
     "name": "stdout",
     "output_type": "stream",
     "text": [
      "Processing housondewnpnM1.b1.20211003.172900.custom.csv\n"
     ]
    },
    {
     "name": "stderr",
     "output_type": "stream",
     "text": [
      "/var/folders/lr/66xm8rws2s5c0mc7z6b3y_d00000gn/T/ipykernel_26339/1217691197.py:63: UserWarning: Duplicate pressure(s) [15.2] hPa provided. Output profile includes duplicate temperatures as a result.\n",
      "  parcel_path = mpcalc.parcel_profile(pressure, dry_temp[0], dew_point[0])\n",
      "/var/folders/lr/66xm8rws2s5c0mc7z6b3y_d00000gn/T/ipykernel_26339/1217691197.py:66: UserWarning: Duplicate pressure(s) [15.2] hPa provided. Output profile includes duplicate temperatures as a result.\n",
      "  lfc_pressure, lfc_temp = mpcalc.lfc(pressure, dry_temp, dew_point)\n",
      "/var/folders/lr/66xm8rws2s5c0mc7z6b3y_d00000gn/T/ipykernel_26339/1217691197.py:68: UserWarning: Duplicate pressure(s) [15.2] hPa provided. Output profile includes duplicate temperatures as a result.\n",
      "  surface_cape, surface_cin = mpcalc.surface_based_cape_cin(pressure, dry_temp, dew_point)\n",
      "/var/folders/lr/66xm8rws2s5c0mc7z6b3y_d00000gn/T/ipykernel_26339/1217691197.py:70: UserWarning: Duplicate pressure(s) [15.2] hPa provided. Output profile includes duplicate temperatures as a result.\n",
      "  el = mpcalc.el(pressure, dry_temp, dew_point)\n",
      "/var/folders/lr/66xm8rws2s5c0mc7z6b3y_d00000gn/T/ipykernel_26339/1217691197.py:72: UserWarning: Duplicate pressure(s) [15.2] hPa provided. Output profile includes duplicate temperatures as a result.\n",
      "  mu_cape, mu_cin = mpcalc.most_unstable_cape_cin(pressure, dry_temp, dew_point)\n"
     ]
    },
    {
     "name": "stdout",
     "output_type": "stream",
     "text": [
      "Processing housondewnpnM1.b1.20211011.173500.custom.csv\n",
      "Processing housondewnpnM1.b1.20211028.173100.custom.csv\n"
     ]
    },
    {
     "name": "stderr",
     "output_type": "stream",
     "text": [
      "/var/folders/lr/66xm8rws2s5c0mc7z6b3y_d00000gn/T/ipykernel_26339/1217691197.py:63: UserWarning: Duplicate pressure(s) [25.99] hPa provided. Output profile includes duplicate temperatures as a result.\n",
      "  parcel_path = mpcalc.parcel_profile(pressure, dry_temp[0], dew_point[0])\n",
      "/var/folders/lr/66xm8rws2s5c0mc7z6b3y_d00000gn/T/ipykernel_26339/1217691197.py:66: UserWarning: Duplicate pressure(s) [25.99] hPa provided. Output profile includes duplicate temperatures as a result.\n",
      "  lfc_pressure, lfc_temp = mpcalc.lfc(pressure, dry_temp, dew_point)\n",
      "/var/folders/lr/66xm8rws2s5c0mc7z6b3y_d00000gn/T/ipykernel_26339/1217691197.py:68: UserWarning: Duplicate pressure(s) [25.99] hPa provided. Output profile includes duplicate temperatures as a result.\n",
      "  surface_cape, surface_cin = mpcalc.surface_based_cape_cin(pressure, dry_temp, dew_point)\n",
      "/var/folders/lr/66xm8rws2s5c0mc7z6b3y_d00000gn/T/ipykernel_26339/1217691197.py:70: UserWarning: Duplicate pressure(s) [25.99] hPa provided. Output profile includes duplicate temperatures as a result.\n",
      "  el = mpcalc.el(pressure, dry_temp, dew_point)\n",
      "/var/folders/lr/66xm8rws2s5c0mc7z6b3y_d00000gn/T/ipykernel_26339/1217691197.py:72: UserWarning: Duplicate pressure(s) [25.99] hPa provided. Output profile includes duplicate temperatures as a result.\n",
      "  mu_cape, mu_cin = mpcalc.most_unstable_cape_cin(pressure, dry_temp, dew_point)\n"
     ]
    },
    {
     "name": "stdout",
     "output_type": "stream",
     "text": [
      "Processing housondewnpnM1.b1.20211029.173000.custom.csv\n"
     ]
    },
    {
     "name": "stderr",
     "output_type": "stream",
     "text": [
      "/var/folders/lr/66xm8rws2s5c0mc7z6b3y_d00000gn/T/ipykernel_26339/1217691197.py:63: UserWarning: Duplicate pressure(s) [21.29] hPa provided. Output profile includes duplicate temperatures as a result.\n",
      "  parcel_path = mpcalc.parcel_profile(pressure, dry_temp[0], dew_point[0])\n",
      "/var/folders/lr/66xm8rws2s5c0mc7z6b3y_d00000gn/T/ipykernel_26339/1217691197.py:66: UserWarning: Duplicate pressure(s) [21.29] hPa provided. Output profile includes duplicate temperatures as a result.\n",
      "  lfc_pressure, lfc_temp = mpcalc.lfc(pressure, dry_temp, dew_point)\n",
      "/var/folders/lr/66xm8rws2s5c0mc7z6b3y_d00000gn/T/ipykernel_26339/1217691197.py:68: UserWarning: Duplicate pressure(s) [21.29] hPa provided. Output profile includes duplicate temperatures as a result.\n",
      "  surface_cape, surface_cin = mpcalc.surface_based_cape_cin(pressure, dry_temp, dew_point)\n",
      "/var/folders/lr/66xm8rws2s5c0mc7z6b3y_d00000gn/T/ipykernel_26339/1217691197.py:70: UserWarning: Duplicate pressure(s) [21.29] hPa provided. Output profile includes duplicate temperatures as a result.\n",
      "  el = mpcalc.el(pressure, dry_temp, dew_point)\n",
      "/var/folders/lr/66xm8rws2s5c0mc7z6b3y_d00000gn/T/ipykernel_26339/1217691197.py:72: UserWarning: Duplicate pressure(s) [21.29] hPa provided. Output profile includes duplicate temperatures as a result.\n",
      "  mu_cape, mu_cin = mpcalc.most_unstable_cape_cin(pressure, dry_temp, dew_point)\n"
     ]
    }
   ],
   "source": [
    "skewT_generator_17(input_folder, output_folder)"
   ]
  },
  {
   "cell_type": "code",
   "execution_count": 48,
   "id": "23f7e99d-fb08-4805-a25b-ab6de142b35e",
   "metadata": {},
   "outputs": [],
   "source": [
    "def overlapping_skewTs(input_folder, output_folder):\n",
    "    for file1 in os.listdir(input_folder):\n",
    "        parts = filename.split(\".\")\n",
    "        date_part = parts[2]\n",
    "        time_part = parts[3]\n",
    "        hour_part = parts[3][:2]\n",
    "\n",
    "        if hour_part == \"11\":\n",
    "            file_path1 = os.path.join(input_folder, file1)\n",
    "            formatted_date = f\"{date_part[4:6]}-{date_part[6:8]}-{date_part[:4]}\"\n",
    "            for file2 in os.listdir(input_folder):\n",
    "                parts2 = file2.split(\".\")\n",
    "                date_part2 = parts2[2]\n",
    "                time_part2 = parts2[3][:2]\n",
    "                \n",
    "                if date_part == date_part2 and time_part2 == \"17\":\n",
    "                    file_path2 = os.path.join(input_folder, file2)\n",
    "                    print(f\"Processing {file1} and {file2}\")\n",
    "                    data1 = pd.read_csv(file_path1)\n",
    "                    data2 = pd.read_csv(file_path2)\n",
    "\n",
    "                    # file1 data\n",
    "                    pressure1 = data1['pres'].values * units.hPa\n",
    "                    dry_temp1 = data1['tdry'].values * units.degC\n",
    "                    dew_point1 = data1['dp'].values * units.degC\n",
    "                    wind_speed1 = data1['wspd'].values * units.knot\n",
    "                    u_wind1 = data1['u_wind'].values * units.knot\n",
    "                    v_wind1 = data1['v_wind'].values * units.knot\n",
    "                    height1 = data1['alt'].values * units.metre\n",
    "\n",
    "                    # file2 data\n",
    "                    pressure2 = data2['pres'].values * units.hPa\n",
    "                    dry_temp2 = data2['tdry'].values * units.degC\n",
    "                    dew_point2 = data2['dp'].values * units.degC\n",
    "                    wind_speed2 = data2['wspd'].values * units.knot\n",
    "                    u_wind2 = data2['u_wind'].values * units.knot\n",
    "                    v_wind2 = data2['v_wind'].values * units.knot\n",
    "                    height2 = data2['alt'].values * units.metre\n",
    "\n",
    "                    # SkewT\n",
    "                    fig = plt.figure(figsize=(12,8))\n",
    "                    skew = plots.SkewT(fig)\n",
    "                    skew.ax.set_xlim(-90,30)\n",
    "                    skew.ax.set_ylim(1050,100)\n",
    "\n",
    "                    skew.plot(pressure1, dry_temp1, 'red', label='Temperature1')\n",
    "                    skew.plot(pressure1, dew_point1, 'green', label='Dew Point 1')\n",
    "                    skew.plot(pressure2, dry_temp2, 'red', label='Temperature2', linestyle='dashed', alpha=0.6)\n",
    "                    skew.plot(pressure2, dew_point2, 'green', label='Dew Point 2', linestyle='dashed', alpha=0.6)\n",
    "\n",
    "                    #wind barbs\n",
    "                    interval = np.logspace(2, 3) * units.hPa\n",
    "                    idx1 = mpcalc.resample_nn_1d(pressure1, interval)\n",
    "                    skew.plot_barbs(pressure1[idx1][::2], u_wind1[idx1][::2], v_wind1[idx1][::2])\n",
    "                    idx2 = mpcalc.resample_nn_1d(pressure2, interval)\n",
    "                    skew.plot_barbs(pressure2[idx2][::2], u_wind2[idx2][::2], v_wind2[idx2][::2], color=\"red\")\n",
    "                    \n",
    "                    parcel_path1 = mpcalc.parcel_profile(pressure1, dry_temp1[0], dew_point1[0])\n",
    "                    parcel_path2 = mpcalc.parcel_profile(pressure2, dry_temp2[0], dew_point2[0])\n",
    "\n",
    "                    # stats\n",
    "                    lfc_pressure1, lfc_temp1 = mpcalc.lfc(pressure1, dry_temp1, dew_point1)\n",
    "                    lcl_pressure1, lcl_temp1 = mpcalc.lcl(pressure1[0], dry_temp1[0], dew_point1[0])\n",
    "                    surface_cape1, surface_cin1 = mpcalc.surface_based_cape_cin(pressure1, dry_temp1, dew_point1)\n",
    "                    li1 = lifted_index(pressure1, dry_temp1, parcel_path1)\n",
    "                    el1 = mpcalc.el(pressure1, dry_temp1, dew_point1)\n",
    "                    try:\n",
    "                        mu_cape1, mu_cin1 = mpcalc.most_unstable_cape_cin(pressure1, dry_temp1, dew_point1)\n",
    "                    except ValueError as e:\n",
    "                        print(f\"Skipping file due to error: {e}\")\n",
    "                        continue\n",
    "                    \n",
    "                    \n",
    "                    lfc_pressure2, lfc_temp2 = mpcalc.lfc(pressure2, dry_temp2, dew_point2)\n",
    "                    lcl_pressure2, lcl_temp2 = mpcalc.lcl(pressure2[0], dry_temp2[0], dew_point2[0])\n",
    "                    surface_cape2, surface_cin2 = mpcalc.surface_based_cape_cin(pressure2, dry_temp2, dew_point2)\n",
    "                    li2 = lifted_index(pressure2, dry_temp2, parcel_path2)\n",
    "                    el2 = mpcalc.el(pressure2, dry_temp2, dew_point2)\n",
    "                    try:\n",
    "                        mu_cape2, mu_cin2 = mpcalc.most_unstable_cape_cin(pressure2, dry_temp2, dew_point2)\n",
    "                    except ValueError as e:\n",
    "                        print(f\"Skipping file due to error: {e}\")\n",
    "                        continue\n",
    "\n",
    "                    skew.plot(pressure1, parcel_path1, color='black')\n",
    "                    skew.plot(pressure2, parcel_path2, color='black', alpha=0.6, linestyle='dashed')\n",
    "\n",
    "                    # horizontal lines\n",
    "                    skew.ax.axhline(el1[0], color='blue', label=\"Equilibrium level 1\")\n",
    "                    skew.ax.axhline(lfc_pressure1, color='purple', label=\"LFC Pressure 1\")\n",
    "                    skew.ax.axhline(lcl_pressure1, color='orange', label=\"LCL Pressure 1\")\n",
    "                    \n",
    "                    skew.ax.axhline(el2[0], color='blue', label=\"Equilibrium level 2\", linestyle='dashed', alpha=0.6)\n",
    "                    skew.ax.axhline(lfc_pressure2, color='purple', label=\"LFC Pressure 2\", linestyle='dashed', alpha=0.6)\n",
    "                    skew.ax.axhline(lcl_pressure2, color='orange', label=\"LFC Pressure 2\", linestyle='dashed', alpha=0.6)\n",
    "\n",
    "                    skew.shade_cape(pressure1, dry_temp1, parcel_path1)\n",
    "                    skew.shade_cin(pressure1, dry_temp1, parcel_path1)\n",
    "\n",
    "                    title = f\"TRACER M1 {formatted_date}\"\n",
    "                    skew.ax.set_title(title, fontsize=10)\n",
    "\n",
    "                    save_path = f\"{output_folder}/Combined/TRACERM1.{date_part}.png\"\n",
    "                    fig.savefig(save_path, dpi=300)"
   ]
  },
  {
   "cell_type": "code",
   "execution_count": 50,
   "id": "77ec4106-385c-49b4-a563-21b85eae012d",
   "metadata": {
    "collapsed": true,
    "jupyter": {
     "outputs_hidden": true,
     "source_hidden": true
    }
   },
   "outputs": [
    {
     "name": "stdout",
     "output_type": "stream",
     "text": [
      "Processing housondewnpnM1.b1.20211021.112500.custom.csv and housondewnpnM1.b1.20211021.172500.custom.csv\n"
     ]
    },
    {
     "name": "stderr",
     "output_type": "stream",
     "text": [
      "/var/folders/lr/66xm8rws2s5c0mc7z6b3y_d00000gn/T/ipykernel_26339/4041200657.py:60: UserWarning: Duplicate pressure(s) [15.32] hPa provided. Output profile includes duplicate temperatures as a result.\n",
      "  parcel_path2 = mpcalc.parcel_profile(pressure2, dry_temp2[0], dew_point2[0])\n",
      "/var/folders/lr/66xm8rws2s5c0mc7z6b3y_d00000gn/T/ipykernel_26339/4041200657.py:75: UserWarning: Duplicate pressure(s) [15.32] hPa provided. Output profile includes duplicate temperatures as a result.\n",
      "  lfc_pressure2, lfc_temp2 = mpcalc.lfc(pressure2, dry_temp2, dew_point2)\n",
      "/var/folders/lr/66xm8rws2s5c0mc7z6b3y_d00000gn/T/ipykernel_26339/4041200657.py:77: UserWarning: Duplicate pressure(s) [15.32] hPa provided. Output profile includes duplicate temperatures as a result.\n",
      "  surface_cape2, surface_cin2 = mpcalc.surface_based_cape_cin(pressure2, dry_temp2, dew_point2)\n",
      "/var/folders/lr/66xm8rws2s5c0mc7z6b3y_d00000gn/T/ipykernel_26339/4041200657.py:79: UserWarning: Duplicate pressure(s) [15.32] hPa provided. Output profile includes duplicate temperatures as a result.\n",
      "  el2 = mpcalc.el(pressure2, dry_temp2, dew_point2)\n",
      "/var/folders/lr/66xm8rws2s5c0mc7z6b3y_d00000gn/T/ipykernel_26339/4041200657.py:81: UserWarning: Duplicate pressure(s) [15.32] hPa provided. Output profile includes duplicate temperatures as a result.\n",
      "  mu_cape2, mu_cin2 = mpcalc.most_unstable_cape_cin(pressure2, dry_temp2, dew_point2)\n"
     ]
    },
    {
     "name": "stdout",
     "output_type": "stream",
     "text": [
      "Processing housondewnpnM1.b1.20211005.112700.custom.csv and housondewnpnM1.b1.20211005.172900.custom.csv\n"
     ]
    },
    {
     "name": "stderr",
     "output_type": "stream",
     "text": [
      "/var/folders/lr/66xm8rws2s5c0mc7z6b3y_d00000gn/T/ipykernel_26339/4041200657.py:60: UserWarning: Duplicate pressure(s) [16.47] hPa provided. Output profile includes duplicate temperatures as a result.\n",
      "  parcel_path2 = mpcalc.parcel_profile(pressure2, dry_temp2[0], dew_point2[0])\n",
      "/var/folders/lr/66xm8rws2s5c0mc7z6b3y_d00000gn/T/ipykernel_26339/4041200657.py:75: UserWarning: Duplicate pressure(s) [16.47] hPa provided. Output profile includes duplicate temperatures as a result.\n",
      "  lfc_pressure2, lfc_temp2 = mpcalc.lfc(pressure2, dry_temp2, dew_point2)\n",
      "/var/folders/lr/66xm8rws2s5c0mc7z6b3y_d00000gn/T/ipykernel_26339/4041200657.py:77: UserWarning: Duplicate pressure(s) [16.47] hPa provided. Output profile includes duplicate temperatures as a result.\n",
      "  surface_cape2, surface_cin2 = mpcalc.surface_based_cape_cin(pressure2, dry_temp2, dew_point2)\n",
      "/var/folders/lr/66xm8rws2s5c0mc7z6b3y_d00000gn/T/ipykernel_26339/4041200657.py:79: UserWarning: Duplicate pressure(s) [16.47] hPa provided. Output profile includes duplicate temperatures as a result.\n",
      "  el2 = mpcalc.el(pressure2, dry_temp2, dew_point2)\n",
      "/var/folders/lr/66xm8rws2s5c0mc7z6b3y_d00000gn/T/ipykernel_26339/4041200657.py:81: UserWarning: Duplicate pressure(s) [16.47] hPa provided. Output profile includes duplicate temperatures as a result.\n",
      "  mu_cape2, mu_cin2 = mpcalc.most_unstable_cape_cin(pressure2, dry_temp2, dew_point2)\n"
     ]
    },
    {
     "name": "stdout",
     "output_type": "stream",
     "text": [
      "Processing housondewnpnM1.b1.20211028.113200.custom.csv and housondewnpnM1.b1.20211028.173100.custom.csv\n"
     ]
    },
    {
     "name": "stderr",
     "output_type": "stream",
     "text": [
      "/var/folders/lr/66xm8rws2s5c0mc7z6b3y_d00000gn/T/ipykernel_26339/4041200657.py:60: UserWarning: Duplicate pressure(s) [25.99] hPa provided. Output profile includes duplicate temperatures as a result.\n",
      "  parcel_path2 = mpcalc.parcel_profile(pressure2, dry_temp2[0], dew_point2[0])\n",
      "/var/folders/lr/66xm8rws2s5c0mc7z6b3y_d00000gn/T/ipykernel_26339/4041200657.py:75: UserWarning: Duplicate pressure(s) [25.99] hPa provided. Output profile includes duplicate temperatures as a result.\n",
      "  lfc_pressure2, lfc_temp2 = mpcalc.lfc(pressure2, dry_temp2, dew_point2)\n",
      "/var/folders/lr/66xm8rws2s5c0mc7z6b3y_d00000gn/T/ipykernel_26339/4041200657.py:77: UserWarning: Duplicate pressure(s) [25.99] hPa provided. Output profile includes duplicate temperatures as a result.\n",
      "  surface_cape2, surface_cin2 = mpcalc.surface_based_cape_cin(pressure2, dry_temp2, dew_point2)\n",
      "/var/folders/lr/66xm8rws2s5c0mc7z6b3y_d00000gn/T/ipykernel_26339/4041200657.py:79: UserWarning: Duplicate pressure(s) [25.99] hPa provided. Output profile includes duplicate temperatures as a result.\n",
      "  el2 = mpcalc.el(pressure2, dry_temp2, dew_point2)\n",
      "/var/folders/lr/66xm8rws2s5c0mc7z6b3y_d00000gn/T/ipykernel_26339/4041200657.py:81: UserWarning: Duplicate pressure(s) [25.99] hPa provided. Output profile includes duplicate temperatures as a result.\n",
      "  mu_cape2, mu_cin2 = mpcalc.most_unstable_cape_cin(pressure2, dry_temp2, dew_point2)\n"
     ]
    },
    {
     "name": "stdout",
     "output_type": "stream",
     "text": [
      "Processing housondewnpnM1.b1.20211024.113000.custom.csv and housondewnpnM1.b1.20211024.173100.custom.csv\n"
     ]
    },
    {
     "name": "stderr",
     "output_type": "stream",
     "text": [
      "/var/folders/lr/66xm8rws2s5c0mc7z6b3y_d00000gn/T/ipykernel_26339/4041200657.py:59: UserWarning: Duplicate pressure(s) [13.44] hPa provided. Output profile includes duplicate temperatures as a result.\n",
      "  parcel_path1 = mpcalc.parcel_profile(pressure1, dry_temp1[0], dew_point1[0])\n",
      "/var/folders/lr/66xm8rws2s5c0mc7z6b3y_d00000gn/T/ipykernel_26339/4041200657.py:60: UserWarning: Duplicate pressure(s) [18.68] hPa provided. Output profile includes duplicate temperatures as a result.\n",
      "  parcel_path2 = mpcalc.parcel_profile(pressure2, dry_temp2[0], dew_point2[0])\n",
      "/var/folders/lr/66xm8rws2s5c0mc7z6b3y_d00000gn/T/ipykernel_26339/4041200657.py:63: UserWarning: Duplicate pressure(s) [13.44] hPa provided. Output profile includes duplicate temperatures as a result.\n",
      "  lfc_pressure1, lfc_temp1 = mpcalc.lfc(pressure1, dry_temp1, dew_point1)\n",
      "/var/folders/lr/66xm8rws2s5c0mc7z6b3y_d00000gn/T/ipykernel_26339/4041200657.py:65: UserWarning: Duplicate pressure(s) [13.44] hPa provided. Output profile includes duplicate temperatures as a result.\n",
      "  surface_cape1, surface_cin1 = mpcalc.surface_based_cape_cin(pressure1, dry_temp1, dew_point1)\n",
      "/var/folders/lr/66xm8rws2s5c0mc7z6b3y_d00000gn/T/ipykernel_26339/4041200657.py:67: UserWarning: Duplicate pressure(s) [13.44] hPa provided. Output profile includes duplicate temperatures as a result.\n",
      "  el1 = mpcalc.el(pressure1, dry_temp1, dew_point1)\n",
      "/var/folders/lr/66xm8rws2s5c0mc7z6b3y_d00000gn/T/ipykernel_26339/4041200657.py:69: UserWarning: Duplicate pressure(s) [13.44] hPa provided. Output profile includes duplicate temperatures as a result.\n",
      "  mu_cape1, mu_cin1 = mpcalc.most_unstable_cape_cin(pressure1, dry_temp1, dew_point1)\n",
      "/var/folders/lr/66xm8rws2s5c0mc7z6b3y_d00000gn/T/ipykernel_26339/4041200657.py:75: UserWarning: Duplicate pressure(s) [18.68] hPa provided. Output profile includes duplicate temperatures as a result.\n",
      "  lfc_pressure2, lfc_temp2 = mpcalc.lfc(pressure2, dry_temp2, dew_point2)\n",
      "/var/folders/lr/66xm8rws2s5c0mc7z6b3y_d00000gn/T/ipykernel_26339/4041200657.py:77: UserWarning: Duplicate pressure(s) [18.68] hPa provided. Output profile includes duplicate temperatures as a result.\n",
      "  surface_cape2, surface_cin2 = mpcalc.surface_based_cape_cin(pressure2, dry_temp2, dew_point2)\n",
      "/var/folders/lr/66xm8rws2s5c0mc7z6b3y_d00000gn/T/ipykernel_26339/4041200657.py:79: UserWarning: Duplicate pressure(s) [18.68] hPa provided. Output profile includes duplicate temperatures as a result.\n",
      "  el2 = mpcalc.el(pressure2, dry_temp2, dew_point2)\n",
      "/var/folders/lr/66xm8rws2s5c0mc7z6b3y_d00000gn/T/ipykernel_26339/4041200657.py:81: UserWarning: Duplicate pressure(s) [18.68] hPa provided. Output profile includes duplicate temperatures as a result.\n",
      "  mu_cape2, mu_cin2 = mpcalc.most_unstable_cape_cin(pressure2, dry_temp2, dew_point2)\n"
     ]
    },
    {
     "name": "stdout",
     "output_type": "stream",
     "text": [
      "Processing housondewnpnM1.b1.20211029.113400.custom.csv and housondewnpnM1.b1.20211029.173000.custom.csv\n"
     ]
    },
    {
     "name": "stderr",
     "output_type": "stream",
     "text": [
      "/var/folders/lr/66xm8rws2s5c0mc7z6b3y_d00000gn/T/ipykernel_26339/4041200657.py:60: UserWarning: Duplicate pressure(s) [21.29] hPa provided. Output profile includes duplicate temperatures as a result.\n",
      "  parcel_path2 = mpcalc.parcel_profile(pressure2, dry_temp2[0], dew_point2[0])\n",
      "/var/folders/lr/66xm8rws2s5c0mc7z6b3y_d00000gn/T/ipykernel_26339/4041200657.py:75: UserWarning: Duplicate pressure(s) [21.29] hPa provided. Output profile includes duplicate temperatures as a result.\n",
      "  lfc_pressure2, lfc_temp2 = mpcalc.lfc(pressure2, dry_temp2, dew_point2)\n",
      "/var/folders/lr/66xm8rws2s5c0mc7z6b3y_d00000gn/T/ipykernel_26339/4041200657.py:77: UserWarning: Duplicate pressure(s) [21.29] hPa provided. Output profile includes duplicate temperatures as a result.\n",
      "  surface_cape2, surface_cin2 = mpcalc.surface_based_cape_cin(pressure2, dry_temp2, dew_point2)\n",
      "/var/folders/lr/66xm8rws2s5c0mc7z6b3y_d00000gn/T/ipykernel_26339/4041200657.py:79: UserWarning: Duplicate pressure(s) [21.29] hPa provided. Output profile includes duplicate temperatures as a result.\n",
      "  el2 = mpcalc.el(pressure2, dry_temp2, dew_point2)\n",
      "/var/folders/lr/66xm8rws2s5c0mc7z6b3y_d00000gn/T/ipykernel_26339/4041200657.py:81: UserWarning: Duplicate pressure(s) [21.29] hPa provided. Output profile includes duplicate temperatures as a result.\n",
      "  mu_cape2, mu_cin2 = mpcalc.most_unstable_cape_cin(pressure2, dry_temp2, dew_point2)\n"
     ]
    },
    {
     "name": "stdout",
     "output_type": "stream",
     "text": [
      "Processing housondewnpnM1.b1.20211001.113400.custom.csv and housondewnpnM1.b1.20211001.172900.custom.csv\n",
      "Skipping file due to error: zero-size array to reduction operation minimum which has no identity\n",
      "Processing housondewnpnM1.b1.20211018.113500.custom.csv and housondewnpnM1.b1.20211018.172900.custom.csv\n"
     ]
    },
    {
     "name": "stderr",
     "output_type": "stream",
     "text": [
      "/var/folders/lr/66xm8rws2s5c0mc7z6b3y_d00000gn/T/ipykernel_26339/4041200657.py:59: UserWarning: Duplicate pressure(s) [15.49] hPa provided. Output profile includes duplicate temperatures as a result.\n",
      "  parcel_path1 = mpcalc.parcel_profile(pressure1, dry_temp1[0], dew_point1[0])\n",
      "/var/folders/lr/66xm8rws2s5c0mc7z6b3y_d00000gn/T/ipykernel_26339/4041200657.py:60: UserWarning: Duplicate pressure(s) [14.65] hPa provided. Output profile includes duplicate temperatures as a result.\n",
      "  parcel_path2 = mpcalc.parcel_profile(pressure2, dry_temp2[0], dew_point2[0])\n",
      "/var/folders/lr/66xm8rws2s5c0mc7z6b3y_d00000gn/T/ipykernel_26339/4041200657.py:63: UserWarning: Duplicate pressure(s) [15.49] hPa provided. Output profile includes duplicate temperatures as a result.\n",
      "  lfc_pressure1, lfc_temp1 = mpcalc.lfc(pressure1, dry_temp1, dew_point1)\n",
      "/var/folders/lr/66xm8rws2s5c0mc7z6b3y_d00000gn/T/ipykernel_26339/4041200657.py:65: UserWarning: Duplicate pressure(s) [15.49] hPa provided. Output profile includes duplicate temperatures as a result.\n",
      "  surface_cape1, surface_cin1 = mpcalc.surface_based_cape_cin(pressure1, dry_temp1, dew_point1)\n",
      "/var/folders/lr/66xm8rws2s5c0mc7z6b3y_d00000gn/T/ipykernel_26339/4041200657.py:67: UserWarning: Duplicate pressure(s) [15.49] hPa provided. Output profile includes duplicate temperatures as a result.\n",
      "  el1 = mpcalc.el(pressure1, dry_temp1, dew_point1)\n",
      "/var/folders/lr/66xm8rws2s5c0mc7z6b3y_d00000gn/T/ipykernel_26339/4041200657.py:69: UserWarning: Duplicate pressure(s) [15.49] hPa provided. Output profile includes duplicate temperatures as a result.\n",
      "  mu_cape1, mu_cin1 = mpcalc.most_unstable_cape_cin(pressure1, dry_temp1, dew_point1)\n",
      "/var/folders/lr/66xm8rws2s5c0mc7z6b3y_d00000gn/T/ipykernel_26339/4041200657.py:75: UserWarning: Duplicate pressure(s) [14.65] hPa provided. Output profile includes duplicate temperatures as a result.\n",
      "  lfc_pressure2, lfc_temp2 = mpcalc.lfc(pressure2, dry_temp2, dew_point2)\n",
      "/var/folders/lr/66xm8rws2s5c0mc7z6b3y_d00000gn/T/ipykernel_26339/4041200657.py:77: UserWarning: Duplicate pressure(s) [14.65] hPa provided. Output profile includes duplicate temperatures as a result.\n",
      "  surface_cape2, surface_cin2 = mpcalc.surface_based_cape_cin(pressure2, dry_temp2, dew_point2)\n",
      "/var/folders/lr/66xm8rws2s5c0mc7z6b3y_d00000gn/T/ipykernel_26339/4041200657.py:79: UserWarning: Duplicate pressure(s) [14.65] hPa provided. Output profile includes duplicate temperatures as a result.\n",
      "  el2 = mpcalc.el(pressure2, dry_temp2, dew_point2)\n",
      "/var/folders/lr/66xm8rws2s5c0mc7z6b3y_d00000gn/T/ipykernel_26339/4041200657.py:81: UserWarning: Duplicate pressure(s) [14.65] hPa provided. Output profile includes duplicate temperatures as a result.\n",
      "  mu_cape2, mu_cin2 = mpcalc.most_unstable_cape_cin(pressure2, dry_temp2, dew_point2)\n"
     ]
    },
    {
     "name": "stdout",
     "output_type": "stream",
     "text": [
      "Processing housondewnpnM1.b1.20211010.113100.custom.csv and housondewnpnM1.b1.20211010.173000.custom.csv\n"
     ]
    },
    {
     "name": "stderr",
     "output_type": "stream",
     "text": [
      "/var/folders/lr/66xm8rws2s5c0mc7z6b3y_d00000gn/T/ipykernel_26339/4041200657.py:59: UserWarning: Duplicate pressure(s) [13.48] hPa provided. Output profile includes duplicate temperatures as a result.\n",
      "  parcel_path1 = mpcalc.parcel_profile(pressure1, dry_temp1[0], dew_point1[0])\n",
      "/var/folders/lr/66xm8rws2s5c0mc7z6b3y_d00000gn/T/ipykernel_26339/4041200657.py:60: UserWarning: Duplicate pressure(s) [17.43] hPa provided. Output profile includes duplicate temperatures as a result.\n",
      "  parcel_path2 = mpcalc.parcel_profile(pressure2, dry_temp2[0], dew_point2[0])\n",
      "/var/folders/lr/66xm8rws2s5c0mc7z6b3y_d00000gn/T/ipykernel_26339/4041200657.py:63: UserWarning: Duplicate pressure(s) [13.48] hPa provided. Output profile includes duplicate temperatures as a result.\n",
      "  lfc_pressure1, lfc_temp1 = mpcalc.lfc(pressure1, dry_temp1, dew_point1)\n",
      "/var/folders/lr/66xm8rws2s5c0mc7z6b3y_d00000gn/T/ipykernel_26339/4041200657.py:65: UserWarning: Duplicate pressure(s) [13.48] hPa provided. Output profile includes duplicate temperatures as a result.\n",
      "  surface_cape1, surface_cin1 = mpcalc.surface_based_cape_cin(pressure1, dry_temp1, dew_point1)\n",
      "/var/folders/lr/66xm8rws2s5c0mc7z6b3y_d00000gn/T/ipykernel_26339/4041200657.py:67: UserWarning: Duplicate pressure(s) [13.48] hPa provided. Output profile includes duplicate temperatures as a result.\n",
      "  el1 = mpcalc.el(pressure1, dry_temp1, dew_point1)\n",
      "/var/folders/lr/66xm8rws2s5c0mc7z6b3y_d00000gn/T/ipykernel_26339/4041200657.py:69: UserWarning: Duplicate pressure(s) [13.48] hPa provided. Output profile includes duplicate temperatures as a result.\n",
      "  mu_cape1, mu_cin1 = mpcalc.most_unstable_cape_cin(pressure1, dry_temp1, dew_point1)\n",
      "/var/folders/lr/66xm8rws2s5c0mc7z6b3y_d00000gn/T/ipykernel_26339/4041200657.py:75: UserWarning: Duplicate pressure(s) [17.43] hPa provided. Output profile includes duplicate temperatures as a result.\n",
      "  lfc_pressure2, lfc_temp2 = mpcalc.lfc(pressure2, dry_temp2, dew_point2)\n",
      "/var/folders/lr/66xm8rws2s5c0mc7z6b3y_d00000gn/T/ipykernel_26339/4041200657.py:77: UserWarning: Duplicate pressure(s) [17.43] hPa provided. Output profile includes duplicate temperatures as a result.\n",
      "  surface_cape2, surface_cin2 = mpcalc.surface_based_cape_cin(pressure2, dry_temp2, dew_point2)\n",
      "/var/folders/lr/66xm8rws2s5c0mc7z6b3y_d00000gn/T/ipykernel_26339/4041200657.py:79: UserWarning: Duplicate pressure(s) [17.43] hPa provided. Output profile includes duplicate temperatures as a result.\n",
      "  el2 = mpcalc.el(pressure2, dry_temp2, dew_point2)\n",
      "/var/folders/lr/66xm8rws2s5c0mc7z6b3y_d00000gn/T/ipykernel_26339/4041200657.py:81: UserWarning: Duplicate pressure(s) [17.43] hPa provided. Output profile includes duplicate temperatures as a result.\n",
      "  mu_cape2, mu_cin2 = mpcalc.most_unstable_cape_cin(pressure2, dry_temp2, dew_point2)\n"
     ]
    },
    {
     "name": "stdout",
     "output_type": "stream",
     "text": [
      "Processing housondewnpnM1.b1.20211016.113600.custom.csv and housondewnpnM1.b1.20211016.172900.custom.csv\n"
     ]
    },
    {
     "name": "stderr",
     "output_type": "stream",
     "text": [
      "/var/folders/lr/66xm8rws2s5c0mc7z6b3y_d00000gn/T/ipykernel_26339/4041200657.py:59: UserWarning: Duplicate pressure(s) [14.46] hPa provided. Output profile includes duplicate temperatures as a result.\n",
      "  parcel_path1 = mpcalc.parcel_profile(pressure1, dry_temp1[0], dew_point1[0])\n",
      "/var/folders/lr/66xm8rws2s5c0mc7z6b3y_d00000gn/T/ipykernel_26339/4041200657.py:60: UserWarning: Duplicate pressure(s) [18.61] hPa provided. Output profile includes duplicate temperatures as a result.\n",
      "  parcel_path2 = mpcalc.parcel_profile(pressure2, dry_temp2[0], dew_point2[0])\n",
      "/var/folders/lr/66xm8rws2s5c0mc7z6b3y_d00000gn/T/ipykernel_26339/4041200657.py:63: UserWarning: Duplicate pressure(s) [14.46] hPa provided. Output profile includes duplicate temperatures as a result.\n",
      "  lfc_pressure1, lfc_temp1 = mpcalc.lfc(pressure1, dry_temp1, dew_point1)\n",
      "/var/folders/lr/66xm8rws2s5c0mc7z6b3y_d00000gn/T/ipykernel_26339/4041200657.py:65: UserWarning: Duplicate pressure(s) [14.46] hPa provided. Output profile includes duplicate temperatures as a result.\n",
      "  surface_cape1, surface_cin1 = mpcalc.surface_based_cape_cin(pressure1, dry_temp1, dew_point1)\n",
      "/var/folders/lr/66xm8rws2s5c0mc7z6b3y_d00000gn/T/ipykernel_26339/4041200657.py:67: UserWarning: Duplicate pressure(s) [14.46] hPa provided. Output profile includes duplicate temperatures as a result.\n",
      "  el1 = mpcalc.el(pressure1, dry_temp1, dew_point1)\n",
      "/var/folders/lr/66xm8rws2s5c0mc7z6b3y_d00000gn/T/ipykernel_26339/4041200657.py:69: UserWarning: Duplicate pressure(s) [14.46] hPa provided. Output profile includes duplicate temperatures as a result.\n",
      "  mu_cape1, mu_cin1 = mpcalc.most_unstable_cape_cin(pressure1, dry_temp1, dew_point1)\n",
      "/var/folders/lr/66xm8rws2s5c0mc7z6b3y_d00000gn/T/ipykernel_26339/4041200657.py:75: UserWarning: Duplicate pressure(s) [18.61] hPa provided. Output profile includes duplicate temperatures as a result.\n",
      "  lfc_pressure2, lfc_temp2 = mpcalc.lfc(pressure2, dry_temp2, dew_point2)\n",
      "/var/folders/lr/66xm8rws2s5c0mc7z6b3y_d00000gn/T/ipykernel_26339/4041200657.py:77: UserWarning: Duplicate pressure(s) [18.61] hPa provided. Output profile includes duplicate temperatures as a result.\n",
      "  surface_cape2, surface_cin2 = mpcalc.surface_based_cape_cin(pressure2, dry_temp2, dew_point2)\n",
      "/var/folders/lr/66xm8rws2s5c0mc7z6b3y_d00000gn/T/ipykernel_26339/4041200657.py:79: UserWarning: Duplicate pressure(s) [18.61] hPa provided. Output profile includes duplicate temperatures as a result.\n",
      "  el2 = mpcalc.el(pressure2, dry_temp2, dew_point2)\n",
      "/var/folders/lr/66xm8rws2s5c0mc7z6b3y_d00000gn/T/ipykernel_26339/4041200657.py:81: UserWarning: Duplicate pressure(s) [18.61] hPa provided. Output profile includes duplicate temperatures as a result.\n",
      "  mu_cape2, mu_cin2 = mpcalc.most_unstable_cape_cin(pressure2, dry_temp2, dew_point2)\n"
     ]
    },
    {
     "name": "stdout",
     "output_type": "stream",
     "text": [
      "Processing housondewnpnM1.b1.20211026.113000.custom.csv and housondewnpnM1.b1.20211026.173100.custom.csv\n"
     ]
    },
    {
     "name": "stderr",
     "output_type": "stream",
     "text": [
      "/var/folders/lr/66xm8rws2s5c0mc7z6b3y_d00000gn/T/ipykernel_26339/4041200657.py:59: UserWarning: Duplicate pressure(s) [12.6 12.74 12.97 14.15] hPa provided. Output profile includes duplicate temperatures as a result.\n",
      "  parcel_path1 = mpcalc.parcel_profile(pressure1, dry_temp1[0], dew_point1[0])\n",
      "/var/folders/lr/66xm8rws2s5c0mc7z6b3y_d00000gn/T/ipykernel_26339/4041200657.py:63: UserWarning: Duplicate pressure(s) [12.6 12.74 12.97 14.15] hPa provided. Output profile includes duplicate temperatures as a result.\n",
      "  lfc_pressure1, lfc_temp1 = mpcalc.lfc(pressure1, dry_temp1, dew_point1)\n",
      "/var/folders/lr/66xm8rws2s5c0mc7z6b3y_d00000gn/T/ipykernel_26339/4041200657.py:65: UserWarning: Duplicate pressure(s) [12.6 12.74 12.97 14.15] hPa provided. Output profile includes duplicate temperatures as a result.\n",
      "  surface_cape1, surface_cin1 = mpcalc.surface_based_cape_cin(pressure1, dry_temp1, dew_point1)\n",
      "/var/folders/lr/66xm8rws2s5c0mc7z6b3y_d00000gn/T/ipykernel_26339/4041200657.py:67: UserWarning: Duplicate pressure(s) [12.6 12.74 12.97 14.15] hPa provided. Output profile includes duplicate temperatures as a result.\n",
      "  el1 = mpcalc.el(pressure1, dry_temp1, dew_point1)\n",
      "/var/folders/lr/66xm8rws2s5c0mc7z6b3y_d00000gn/T/ipykernel_26339/4041200657.py:69: UserWarning: Duplicate pressure(s) [12.6 12.74 12.97 14.15] hPa provided. Output profile includes duplicate temperatures as a result.\n",
      "  mu_cape1, mu_cin1 = mpcalc.most_unstable_cape_cin(pressure1, dry_temp1, dew_point1)\n"
     ]
    },
    {
     "name": "stdout",
     "output_type": "stream",
     "text": [
      "Processing housondewnpnM1.b1.20211002.113200.custom.csv and housondewnpnM1.b1.20211002.173200.custom.csv\n"
     ]
    },
    {
     "name": "stderr",
     "output_type": "stream",
     "text": [
      "/var/folders/lr/66xm8rws2s5c0mc7z6b3y_d00000gn/T/ipykernel_26339/4041200657.py:59: UserWarning: Duplicate pressure(s) [12.95] hPa provided. Output profile includes duplicate temperatures as a result.\n",
      "  parcel_path1 = mpcalc.parcel_profile(pressure1, dry_temp1[0], dew_point1[0])\n",
      "/var/folders/lr/66xm8rws2s5c0mc7z6b3y_d00000gn/T/ipykernel_26339/4041200657.py:60: UserWarning: Duplicate pressure(s) [23.28] hPa provided. Output profile includes duplicate temperatures as a result.\n",
      "  parcel_path2 = mpcalc.parcel_profile(pressure2, dry_temp2[0], dew_point2[0])\n",
      "/var/folders/lr/66xm8rws2s5c0mc7z6b3y_d00000gn/T/ipykernel_26339/4041200657.py:63: UserWarning: Duplicate pressure(s) [12.95] hPa provided. Output profile includes duplicate temperatures as a result.\n",
      "  lfc_pressure1, lfc_temp1 = mpcalc.lfc(pressure1, dry_temp1, dew_point1)\n",
      "/var/folders/lr/66xm8rws2s5c0mc7z6b3y_d00000gn/T/ipykernel_26339/4041200657.py:65: UserWarning: Duplicate pressure(s) [12.95] hPa provided. Output profile includes duplicate temperatures as a result.\n",
      "  surface_cape1, surface_cin1 = mpcalc.surface_based_cape_cin(pressure1, dry_temp1, dew_point1)\n",
      "/var/folders/lr/66xm8rws2s5c0mc7z6b3y_d00000gn/T/ipykernel_26339/4041200657.py:67: UserWarning: Duplicate pressure(s) [12.95] hPa provided. Output profile includes duplicate temperatures as a result.\n",
      "  el1 = mpcalc.el(pressure1, dry_temp1, dew_point1)\n",
      "/var/folders/lr/66xm8rws2s5c0mc7z6b3y_d00000gn/T/ipykernel_26339/4041200657.py:69: UserWarning: Duplicate pressure(s) [12.95] hPa provided. Output profile includes duplicate temperatures as a result.\n",
      "  mu_cape1, mu_cin1 = mpcalc.most_unstable_cape_cin(pressure1, dry_temp1, dew_point1)\n",
      "/var/folders/lr/66xm8rws2s5c0mc7z6b3y_d00000gn/T/ipykernel_26339/4041200657.py:75: UserWarning: Duplicate pressure(s) [23.28] hPa provided. Output profile includes duplicate temperatures as a result.\n",
      "  lfc_pressure2, lfc_temp2 = mpcalc.lfc(pressure2, dry_temp2, dew_point2)\n",
      "/var/folders/lr/66xm8rws2s5c0mc7z6b3y_d00000gn/T/ipykernel_26339/4041200657.py:77: UserWarning: Duplicate pressure(s) [23.28] hPa provided. Output profile includes duplicate temperatures as a result.\n",
      "  surface_cape2, surface_cin2 = mpcalc.surface_based_cape_cin(pressure2, dry_temp2, dew_point2)\n",
      "/var/folders/lr/66xm8rws2s5c0mc7z6b3y_d00000gn/T/ipykernel_26339/4041200657.py:79: UserWarning: Duplicate pressure(s) [23.28] hPa provided. Output profile includes duplicate temperatures as a result.\n",
      "  el2 = mpcalc.el(pressure2, dry_temp2, dew_point2)\n",
      "/var/folders/lr/66xm8rws2s5c0mc7z6b3y_d00000gn/T/ipykernel_26339/4041200657.py:81: UserWarning: Duplicate pressure(s) [23.28] hPa provided. Output profile includes duplicate temperatures as a result.\n",
      "  mu_cape2, mu_cin2 = mpcalc.most_unstable_cape_cin(pressure2, dry_temp2, dew_point2)\n"
     ]
    },
    {
     "name": "stdout",
     "output_type": "stream",
     "text": [
      "Processing housondewnpnM1.b1.20211006.113200.custom.csv and housondewnpnM1.b1.20211006.173300.custom.csv\n"
     ]
    },
    {
     "name": "stderr",
     "output_type": "stream",
     "text": [
      "/var/folders/lr/66xm8rws2s5c0mc7z6b3y_d00000gn/T/ipykernel_26339/4041200657.py:59: UserWarning: Duplicate pressure(s) [15.77] hPa provided. Output profile includes duplicate temperatures as a result.\n",
      "  parcel_path1 = mpcalc.parcel_profile(pressure1, dry_temp1[0], dew_point1[0])\n",
      "/var/folders/lr/66xm8rws2s5c0mc7z6b3y_d00000gn/T/ipykernel_26339/4041200657.py:60: UserWarning: Duplicate pressure(s) [17.04] hPa provided. Output profile includes duplicate temperatures as a result.\n",
      "  parcel_path2 = mpcalc.parcel_profile(pressure2, dry_temp2[0], dew_point2[0])\n",
      "/var/folders/lr/66xm8rws2s5c0mc7z6b3y_d00000gn/T/ipykernel_26339/4041200657.py:63: UserWarning: Duplicate pressure(s) [15.77] hPa provided. Output profile includes duplicate temperatures as a result.\n",
      "  lfc_pressure1, lfc_temp1 = mpcalc.lfc(pressure1, dry_temp1, dew_point1)\n",
      "/var/folders/lr/66xm8rws2s5c0mc7z6b3y_d00000gn/T/ipykernel_26339/4041200657.py:65: UserWarning: Duplicate pressure(s) [15.77] hPa provided. Output profile includes duplicate temperatures as a result.\n",
      "  surface_cape1, surface_cin1 = mpcalc.surface_based_cape_cin(pressure1, dry_temp1, dew_point1)\n",
      "/var/folders/lr/66xm8rws2s5c0mc7z6b3y_d00000gn/T/ipykernel_26339/4041200657.py:67: UserWarning: Duplicate pressure(s) [15.77] hPa provided. Output profile includes duplicate temperatures as a result.\n",
      "  el1 = mpcalc.el(pressure1, dry_temp1, dew_point1)\n",
      "/var/folders/lr/66xm8rws2s5c0mc7z6b3y_d00000gn/T/ipykernel_26339/4041200657.py:69: UserWarning: Duplicate pressure(s) [15.77] hPa provided. Output profile includes duplicate temperatures as a result.\n",
      "  mu_cape1, mu_cin1 = mpcalc.most_unstable_cape_cin(pressure1, dry_temp1, dew_point1)\n",
      "/var/folders/lr/66xm8rws2s5c0mc7z6b3y_d00000gn/T/ipykernel_26339/4041200657.py:75: UserWarning: Duplicate pressure(s) [17.04] hPa provided. Output profile includes duplicate temperatures as a result.\n",
      "  lfc_pressure2, lfc_temp2 = mpcalc.lfc(pressure2, dry_temp2, dew_point2)\n",
      "/var/folders/lr/66xm8rws2s5c0mc7z6b3y_d00000gn/T/ipykernel_26339/4041200657.py:77: UserWarning: Duplicate pressure(s) [17.04] hPa provided. Output profile includes duplicate temperatures as a result.\n",
      "  surface_cape2, surface_cin2 = mpcalc.surface_based_cape_cin(pressure2, dry_temp2, dew_point2)\n",
      "/var/folders/lr/66xm8rws2s5c0mc7z6b3y_d00000gn/T/ipykernel_26339/4041200657.py:79: UserWarning: Duplicate pressure(s) [17.04] hPa provided. Output profile includes duplicate temperatures as a result.\n",
      "  el2 = mpcalc.el(pressure2, dry_temp2, dew_point2)\n",
      "/var/folders/lr/66xm8rws2s5c0mc7z6b3y_d00000gn/T/ipykernel_26339/4041200657.py:81: UserWarning: Duplicate pressure(s) [17.04] hPa provided. Output profile includes duplicate temperatures as a result.\n",
      "  mu_cape2, mu_cin2 = mpcalc.most_unstable_cape_cin(pressure2, dry_temp2, dew_point2)\n"
     ]
    },
    {
     "name": "stdout",
     "output_type": "stream",
     "text": [
      "Processing housondewnpnM1.b1.20211003.113200.custom.csv and housondewnpnM1.b1.20211003.172900.custom.csv\n"
     ]
    },
    {
     "name": "stderr",
     "output_type": "stream",
     "text": [
      "/var/folders/lr/66xm8rws2s5c0mc7z6b3y_d00000gn/T/ipykernel_26339/4041200657.py:60: UserWarning: Duplicate pressure(s) [15.2] hPa provided. Output profile includes duplicate temperatures as a result.\n",
      "  parcel_path2 = mpcalc.parcel_profile(pressure2, dry_temp2[0], dew_point2[0])\n",
      "/var/folders/lr/66xm8rws2s5c0mc7z6b3y_d00000gn/T/ipykernel_26339/4041200657.py:75: UserWarning: Duplicate pressure(s) [15.2] hPa provided. Output profile includes duplicate temperatures as a result.\n",
      "  lfc_pressure2, lfc_temp2 = mpcalc.lfc(pressure2, dry_temp2, dew_point2)\n",
      "/var/folders/lr/66xm8rws2s5c0mc7z6b3y_d00000gn/T/ipykernel_26339/4041200657.py:77: UserWarning: Duplicate pressure(s) [15.2] hPa provided. Output profile includes duplicate temperatures as a result.\n",
      "  surface_cape2, surface_cin2 = mpcalc.surface_based_cape_cin(pressure2, dry_temp2, dew_point2)\n",
      "/var/folders/lr/66xm8rws2s5c0mc7z6b3y_d00000gn/T/ipykernel_26339/4041200657.py:79: UserWarning: Duplicate pressure(s) [15.2] hPa provided. Output profile includes duplicate temperatures as a result.\n",
      "  el2 = mpcalc.el(pressure2, dry_temp2, dew_point2)\n",
      "/var/folders/lr/66xm8rws2s5c0mc7z6b3y_d00000gn/T/ipykernel_26339/4041200657.py:81: UserWarning: Duplicate pressure(s) [15.2] hPa provided. Output profile includes duplicate temperatures as a result.\n",
      "  mu_cape2, mu_cin2 = mpcalc.most_unstable_cape_cin(pressure2, dry_temp2, dew_point2)\n"
     ]
    },
    {
     "name": "stdout",
     "output_type": "stream",
     "text": [
      "Processing housondewnpnM1.b1.20211027.112500.custom.csv and housondewnpnM1.b1.20211027.173000.custom.csv\n"
     ]
    },
    {
     "name": "stderr",
     "output_type": "stream",
     "text": [
      "/var/folders/lr/66xm8rws2s5c0mc7z6b3y_d00000gn/T/ipykernel_26339/4041200657.py:59: UserWarning: Duplicate pressure(s) [14.14] hPa provided. Output profile includes duplicate temperatures as a result.\n",
      "  parcel_path1 = mpcalc.parcel_profile(pressure1, dry_temp1[0], dew_point1[0])\n",
      "/var/folders/lr/66xm8rws2s5c0mc7z6b3y_d00000gn/T/ipykernel_26339/4041200657.py:63: UserWarning: Duplicate pressure(s) [14.14] hPa provided. Output profile includes duplicate temperatures as a result.\n",
      "  lfc_pressure1, lfc_temp1 = mpcalc.lfc(pressure1, dry_temp1, dew_point1)\n",
      "/var/folders/lr/66xm8rws2s5c0mc7z6b3y_d00000gn/T/ipykernel_26339/4041200657.py:65: UserWarning: Duplicate pressure(s) [14.14] hPa provided. Output profile includes duplicate temperatures as a result.\n",
      "  surface_cape1, surface_cin1 = mpcalc.surface_based_cape_cin(pressure1, dry_temp1, dew_point1)\n",
      "/var/folders/lr/66xm8rws2s5c0mc7z6b3y_d00000gn/T/ipykernel_26339/4041200657.py:67: UserWarning: Duplicate pressure(s) [14.14] hPa provided. Output profile includes duplicate temperatures as a result.\n",
      "  el1 = mpcalc.el(pressure1, dry_temp1, dew_point1)\n",
      "/var/folders/lr/66xm8rws2s5c0mc7z6b3y_d00000gn/T/ipykernel_26339/4041200657.py:69: UserWarning: Duplicate pressure(s) [14.14] hPa provided. Output profile includes duplicate temperatures as a result.\n",
      "  mu_cape1, mu_cin1 = mpcalc.most_unstable_cape_cin(pressure1, dry_temp1, dew_point1)\n"
     ]
    },
    {
     "name": "stdout",
     "output_type": "stream",
     "text": [
      "Processing housondewnpnM1.b1.20211023.113400.custom.csv and housondewnpnM1.b1.20211023.173300.custom.csv\n"
     ]
    },
    {
     "name": "stderr",
     "output_type": "stream",
     "text": [
      "/var/folders/lr/66xm8rws2s5c0mc7z6b3y_d00000gn/T/ipykernel_26339/4041200657.py:59: UserWarning: Duplicate pressure(s) [14.8] hPa provided. Output profile includes duplicate temperatures as a result.\n",
      "  parcel_path1 = mpcalc.parcel_profile(pressure1, dry_temp1[0], dew_point1[0])\n",
      "/var/folders/lr/66xm8rws2s5c0mc7z6b3y_d00000gn/T/ipykernel_26339/4041200657.py:63: UserWarning: Duplicate pressure(s) [14.8] hPa provided. Output profile includes duplicate temperatures as a result.\n",
      "  lfc_pressure1, lfc_temp1 = mpcalc.lfc(pressure1, dry_temp1, dew_point1)\n",
      "/var/folders/lr/66xm8rws2s5c0mc7z6b3y_d00000gn/T/ipykernel_26339/4041200657.py:63: UserWarning: Interpolation point out of data bounds encountered\n",
      "  lfc_pressure1, lfc_temp1 = mpcalc.lfc(pressure1, dry_temp1, dew_point1)\n",
      "/var/folders/lr/66xm8rws2s5c0mc7z6b3y_d00000gn/T/ipykernel_26339/4041200657.py:65: UserWarning: Duplicate pressure(s) [14.8] hPa provided. Output profile includes duplicate temperatures as a result.\n",
      "  surface_cape1, surface_cin1 = mpcalc.surface_based_cape_cin(pressure1, dry_temp1, dew_point1)\n",
      "/var/folders/lr/66xm8rws2s5c0mc7z6b3y_d00000gn/T/ipykernel_26339/4041200657.py:65: UserWarning: Interpolation point out of data bounds encountered\n",
      "  surface_cape1, surface_cin1 = mpcalc.surface_based_cape_cin(pressure1, dry_temp1, dew_point1)\n",
      "/var/folders/lr/66xm8rws2s5c0mc7z6b3y_d00000gn/T/ipykernel_26339/4041200657.py:67: UserWarning: Duplicate pressure(s) [14.8] hPa provided. Output profile includes duplicate temperatures as a result.\n",
      "  el1 = mpcalc.el(pressure1, dry_temp1, dew_point1)\n",
      "/var/folders/lr/66xm8rws2s5c0mc7z6b3y_d00000gn/T/ipykernel_26339/4041200657.py:67: UserWarning: Interpolation point out of data bounds encountered\n",
      "  el1 = mpcalc.el(pressure1, dry_temp1, dew_point1)\n",
      "/var/folders/lr/66xm8rws2s5c0mc7z6b3y_d00000gn/T/ipykernel_26339/4041200657.py:69: UserWarning: Duplicate pressure(s) [14.8] hPa provided. Output profile includes duplicate temperatures as a result.\n",
      "  mu_cape1, mu_cin1 = mpcalc.most_unstable_cape_cin(pressure1, dry_temp1, dew_point1)\n",
      "/var/folders/lr/66xm8rws2s5c0mc7z6b3y_d00000gn/T/ipykernel_26339/4041200657.py:69: UserWarning: Interpolation point out of data bounds encountered\n",
      "  mu_cape1, mu_cin1 = mpcalc.most_unstable_cape_cin(pressure1, dry_temp1, dew_point1)\n"
     ]
    },
    {
     "name": "stdout",
     "output_type": "stream",
     "text": [
      "Processing housondewnpnM1.b1.20211007.112500.custom.csv and housondewnpnM1.b1.20211007.173900.custom.csv\n",
      "Processing housondewnpnM1.b1.20211022.113300.custom.csv and housondewnpnM1.b1.20211022.174100.custom.csv\n"
     ]
    },
    {
     "name": "stderr",
     "output_type": "stream",
     "text": [
      "/var/folders/lr/66xm8rws2s5c0mc7z6b3y_d00000gn/T/ipykernel_26339/4041200657.py:59: UserWarning: Duplicate pressure(s) [12.18] hPa provided. Output profile includes duplicate temperatures as a result.\n",
      "  parcel_path1 = mpcalc.parcel_profile(pressure1, dry_temp1[0], dew_point1[0])\n",
      "/var/folders/lr/66xm8rws2s5c0mc7z6b3y_d00000gn/T/ipykernel_26339/4041200657.py:60: UserWarning: Duplicate pressure(s) [22.04] hPa provided. Output profile includes duplicate temperatures as a result.\n",
      "  parcel_path2 = mpcalc.parcel_profile(pressure2, dry_temp2[0], dew_point2[0])\n",
      "/var/folders/lr/66xm8rws2s5c0mc7z6b3y_d00000gn/T/ipykernel_26339/4041200657.py:63: UserWarning: Duplicate pressure(s) [12.18] hPa provided. Output profile includes duplicate temperatures as a result.\n",
      "  lfc_pressure1, lfc_temp1 = mpcalc.lfc(pressure1, dry_temp1, dew_point1)\n",
      "/var/folders/lr/66xm8rws2s5c0mc7z6b3y_d00000gn/T/ipykernel_26339/4041200657.py:65: UserWarning: Duplicate pressure(s) [12.18] hPa provided. Output profile includes duplicate temperatures as a result.\n",
      "  surface_cape1, surface_cin1 = mpcalc.surface_based_cape_cin(pressure1, dry_temp1, dew_point1)\n",
      "/var/folders/lr/66xm8rws2s5c0mc7z6b3y_d00000gn/T/ipykernel_26339/4041200657.py:67: UserWarning: Duplicate pressure(s) [12.18] hPa provided. Output profile includes duplicate temperatures as a result.\n",
      "  el1 = mpcalc.el(pressure1, dry_temp1, dew_point1)\n",
      "/var/folders/lr/66xm8rws2s5c0mc7z6b3y_d00000gn/T/ipykernel_26339/4041200657.py:69: UserWarning: Duplicate pressure(s) [12.18] hPa provided. Output profile includes duplicate temperatures as a result.\n",
      "  mu_cape1, mu_cin1 = mpcalc.most_unstable_cape_cin(pressure1, dry_temp1, dew_point1)\n",
      "/var/folders/lr/66xm8rws2s5c0mc7z6b3y_d00000gn/T/ipykernel_26339/4041200657.py:75: UserWarning: Duplicate pressure(s) [22.04] hPa provided. Output profile includes duplicate temperatures as a result.\n",
      "  lfc_pressure2, lfc_temp2 = mpcalc.lfc(pressure2, dry_temp2, dew_point2)\n",
      "/var/folders/lr/66xm8rws2s5c0mc7z6b3y_d00000gn/T/ipykernel_26339/4041200657.py:77: UserWarning: Duplicate pressure(s) [22.04] hPa provided. Output profile includes duplicate temperatures as a result.\n",
      "  surface_cape2, surface_cin2 = mpcalc.surface_based_cape_cin(pressure2, dry_temp2, dew_point2)\n",
      "/var/folders/lr/66xm8rws2s5c0mc7z6b3y_d00000gn/T/ipykernel_26339/4041200657.py:79: UserWarning: Duplicate pressure(s) [22.04] hPa provided. Output profile includes duplicate temperatures as a result.\n",
      "  el2 = mpcalc.el(pressure2, dry_temp2, dew_point2)\n",
      "/var/folders/lr/66xm8rws2s5c0mc7z6b3y_d00000gn/T/ipykernel_26339/4041200657.py:81: UserWarning: Duplicate pressure(s) [22.04] hPa provided. Output profile includes duplicate temperatures as a result.\n",
      "  mu_cape2, mu_cin2 = mpcalc.most_unstable_cape_cin(pressure2, dry_temp2, dew_point2)\n"
     ]
    },
    {
     "name": "stdout",
     "output_type": "stream",
     "text": [
      "Processing housondewnpnM1.b1.20211017.113200.custom.csv and housondewnpnM1.b1.20211017.172700.custom.csv\n",
      "Processing housondewnpnM1.b1.20211013.113300.custom.csv and housondewnpnM1.b1.20211013.173300.custom.csv\n"
     ]
    },
    {
     "name": "stderr",
     "output_type": "stream",
     "text": [
      "/var/folders/lr/66xm8rws2s5c0mc7z6b3y_d00000gn/T/ipykernel_26339/4041200657.py:59: UserWarning: Duplicate pressure(s) [17.12] hPa provided. Output profile includes duplicate temperatures as a result.\n",
      "  parcel_path1 = mpcalc.parcel_profile(pressure1, dry_temp1[0], dew_point1[0])\n",
      "/var/folders/lr/66xm8rws2s5c0mc7z6b3y_d00000gn/T/ipykernel_26339/4041200657.py:63: UserWarning: Duplicate pressure(s) [17.12] hPa provided. Output profile includes duplicate temperatures as a result.\n",
      "  lfc_pressure1, lfc_temp1 = mpcalc.lfc(pressure1, dry_temp1, dew_point1)\n",
      "/var/folders/lr/66xm8rws2s5c0mc7z6b3y_d00000gn/T/ipykernel_26339/4041200657.py:65: UserWarning: Duplicate pressure(s) [17.12] hPa provided. Output profile includes duplicate temperatures as a result.\n",
      "  surface_cape1, surface_cin1 = mpcalc.surface_based_cape_cin(pressure1, dry_temp1, dew_point1)\n",
      "/var/folders/lr/66xm8rws2s5c0mc7z6b3y_d00000gn/T/ipykernel_26339/4041200657.py:67: UserWarning: Duplicate pressure(s) [17.12] hPa provided. Output profile includes duplicate temperatures as a result.\n",
      "  el1 = mpcalc.el(pressure1, dry_temp1, dew_point1)\n",
      "/var/folders/lr/66xm8rws2s5c0mc7z6b3y_d00000gn/T/ipykernel_26339/4041200657.py:69: UserWarning: Duplicate pressure(s) [17.12] hPa provided. Output profile includes duplicate temperatures as a result.\n",
      "  mu_cape1, mu_cin1 = mpcalc.most_unstable_cape_cin(pressure1, dry_temp1, dew_point1)\n"
     ]
    },
    {
     "name": "stdout",
     "output_type": "stream",
     "text": [
      "Processing housondewnpnM1.b1.20211012.113200.custom.csv and housondewnpnM1.b1.20211012.173000.custom.csv\n"
     ]
    },
    {
     "name": "stderr",
     "output_type": "stream",
     "text": [
      "/var/folders/lr/66xm8rws2s5c0mc7z6b3y_d00000gn/T/ipykernel_26339/4041200657.py:59: UserWarning: Duplicate pressure(s) [13.01] hPa provided. Output profile includes duplicate temperatures as a result.\n",
      "  parcel_path1 = mpcalc.parcel_profile(pressure1, dry_temp1[0], dew_point1[0])\n",
      "/var/folders/lr/66xm8rws2s5c0mc7z6b3y_d00000gn/T/ipykernel_26339/4041200657.py:60: UserWarning: Duplicate pressure(s) [12.08] hPa provided. Output profile includes duplicate temperatures as a result.\n",
      "  parcel_path2 = mpcalc.parcel_profile(pressure2, dry_temp2[0], dew_point2[0])\n",
      "/var/folders/lr/66xm8rws2s5c0mc7z6b3y_d00000gn/T/ipykernel_26339/4041200657.py:63: UserWarning: Duplicate pressure(s) [13.01] hPa provided. Output profile includes duplicate temperatures as a result.\n",
      "  lfc_pressure1, lfc_temp1 = mpcalc.lfc(pressure1, dry_temp1, dew_point1)\n",
      "/var/folders/lr/66xm8rws2s5c0mc7z6b3y_d00000gn/T/ipykernel_26339/4041200657.py:65: UserWarning: Duplicate pressure(s) [13.01] hPa provided. Output profile includes duplicate temperatures as a result.\n",
      "  surface_cape1, surface_cin1 = mpcalc.surface_based_cape_cin(pressure1, dry_temp1, dew_point1)\n",
      "/var/folders/lr/66xm8rws2s5c0mc7z6b3y_d00000gn/T/ipykernel_26339/4041200657.py:67: UserWarning: Duplicate pressure(s) [13.01] hPa provided. Output profile includes duplicate temperatures as a result.\n",
      "  el1 = mpcalc.el(pressure1, dry_temp1, dew_point1)\n",
      "/var/folders/lr/66xm8rws2s5c0mc7z6b3y_d00000gn/T/ipykernel_26339/4041200657.py:69: UserWarning: Duplicate pressure(s) [13.01] hPa provided. Output profile includes duplicate temperatures as a result.\n",
      "  mu_cape1, mu_cin1 = mpcalc.most_unstable_cape_cin(pressure1, dry_temp1, dew_point1)\n",
      "/var/folders/lr/66xm8rws2s5c0mc7z6b3y_d00000gn/T/ipykernel_26339/4041200657.py:75: UserWarning: Duplicate pressure(s) [12.08] hPa provided. Output profile includes duplicate temperatures as a result.\n",
      "  lfc_pressure2, lfc_temp2 = mpcalc.lfc(pressure2, dry_temp2, dew_point2)\n",
      "/var/folders/lr/66xm8rws2s5c0mc7z6b3y_d00000gn/T/ipykernel_26339/4041200657.py:77: UserWarning: Duplicate pressure(s) [12.08] hPa provided. Output profile includes duplicate temperatures as a result.\n",
      "  surface_cape2, surface_cin2 = mpcalc.surface_based_cape_cin(pressure2, dry_temp2, dew_point2)\n",
      "/var/folders/lr/66xm8rws2s5c0mc7z6b3y_d00000gn/T/ipykernel_26339/4041200657.py:79: UserWarning: Duplicate pressure(s) [12.08] hPa provided. Output profile includes duplicate temperatures as a result.\n",
      "  el2 = mpcalc.el(pressure2, dry_temp2, dew_point2)\n",
      "/var/folders/lr/66xm8rws2s5c0mc7z6b3y_d00000gn/T/ipykernel_26339/4041200657.py:81: UserWarning: Duplicate pressure(s) [12.08] hPa provided. Output profile includes duplicate temperatures as a result.\n",
      "  mu_cape2, mu_cin2 = mpcalc.most_unstable_cape_cin(pressure2, dry_temp2, dew_point2)\n"
     ]
    },
    {
     "name": "stdout",
     "output_type": "stream",
     "text": [
      "Processing housondewnpnM1.b1.20211020.113500.custom.csv and housondewnpnM1.b1.20211020.173000.custom.csv\n"
     ]
    },
    {
     "name": "stderr",
     "output_type": "stream",
     "text": [
      "/var/folders/lr/66xm8rws2s5c0mc7z6b3y_d00000gn/T/ipykernel_26339/4041200657.py:59: UserWarning: Duplicate pressure(s) [14.31] hPa provided. Output profile includes duplicate temperatures as a result.\n",
      "  parcel_path1 = mpcalc.parcel_profile(pressure1, dry_temp1[0], dew_point1[0])\n",
      "/var/folders/lr/66xm8rws2s5c0mc7z6b3y_d00000gn/T/ipykernel_26339/4041200657.py:60: UserWarning: Duplicate pressure(s) [18.21] hPa provided. Output profile includes duplicate temperatures as a result.\n",
      "  parcel_path2 = mpcalc.parcel_profile(pressure2, dry_temp2[0], dew_point2[0])\n",
      "/var/folders/lr/66xm8rws2s5c0mc7z6b3y_d00000gn/T/ipykernel_26339/4041200657.py:63: UserWarning: Duplicate pressure(s) [14.31] hPa provided. Output profile includes duplicate temperatures as a result.\n",
      "  lfc_pressure1, lfc_temp1 = mpcalc.lfc(pressure1, dry_temp1, dew_point1)\n",
      "/var/folders/lr/66xm8rws2s5c0mc7z6b3y_d00000gn/T/ipykernel_26339/4041200657.py:65: UserWarning: Duplicate pressure(s) [14.31] hPa provided. Output profile includes duplicate temperatures as a result.\n",
      "  surface_cape1, surface_cin1 = mpcalc.surface_based_cape_cin(pressure1, dry_temp1, dew_point1)\n",
      "/var/folders/lr/66xm8rws2s5c0mc7z6b3y_d00000gn/T/ipykernel_26339/4041200657.py:67: UserWarning: Duplicate pressure(s) [14.31] hPa provided. Output profile includes duplicate temperatures as a result.\n",
      "  el1 = mpcalc.el(pressure1, dry_temp1, dew_point1)\n",
      "/var/folders/lr/66xm8rws2s5c0mc7z6b3y_d00000gn/T/ipykernel_26339/4041200657.py:69: UserWarning: Duplicate pressure(s) [14.31] hPa provided. Output profile includes duplicate temperatures as a result.\n",
      "  mu_cape1, mu_cin1 = mpcalc.most_unstable_cape_cin(pressure1, dry_temp1, dew_point1)\n",
      "/var/folders/lr/66xm8rws2s5c0mc7z6b3y_d00000gn/T/ipykernel_26339/4041200657.py:75: UserWarning: Duplicate pressure(s) [18.21] hPa provided. Output profile includes duplicate temperatures as a result.\n",
      "  lfc_pressure2, lfc_temp2 = mpcalc.lfc(pressure2, dry_temp2, dew_point2)\n",
      "/var/folders/lr/66xm8rws2s5c0mc7z6b3y_d00000gn/T/ipykernel_26339/4041200657.py:77: UserWarning: Duplicate pressure(s) [18.21] hPa provided. Output profile includes duplicate temperatures as a result.\n",
      "  surface_cape2, surface_cin2 = mpcalc.surface_based_cape_cin(pressure2, dry_temp2, dew_point2)\n",
      "/var/folders/lr/66xm8rws2s5c0mc7z6b3y_d00000gn/T/ipykernel_26339/4041200657.py:79: UserWarning: Duplicate pressure(s) [18.21] hPa provided. Output profile includes duplicate temperatures as a result.\n",
      "  el2 = mpcalc.el(pressure2, dry_temp2, dew_point2)\n",
      "/var/folders/lr/66xm8rws2s5c0mc7z6b3y_d00000gn/T/ipykernel_26339/4041200657.py:81: UserWarning: Duplicate pressure(s) [18.21] hPa provided. Output profile includes duplicate temperatures as a result.\n",
      "  mu_cape2, mu_cin2 = mpcalc.most_unstable_cape_cin(pressure2, dry_temp2, dew_point2)\n"
     ]
    },
    {
     "name": "stdout",
     "output_type": "stream",
     "text": [
      "Processing housondewnpnM1.b1.20211014.112700.custom.csv and housondewnpnM1.b1.20211014.173000.custom.csv\n"
     ]
    },
    {
     "name": "stderr",
     "output_type": "stream",
     "text": [
      "/var/folders/lr/66xm8rws2s5c0mc7z6b3y_d00000gn/T/ipykernel_26339/4041200657.py:59: UserWarning: Duplicate pressure(s) [13.52] hPa provided. Output profile includes duplicate temperatures as a result.\n",
      "  parcel_path1 = mpcalc.parcel_profile(pressure1, dry_temp1[0], dew_point1[0])\n",
      "/var/folders/lr/66xm8rws2s5c0mc7z6b3y_d00000gn/T/ipykernel_26339/4041200657.py:60: UserWarning: Duplicate pressure(s) [20.27] hPa provided. Output profile includes duplicate temperatures as a result.\n",
      "  parcel_path2 = mpcalc.parcel_profile(pressure2, dry_temp2[0], dew_point2[0])\n",
      "/var/folders/lr/66xm8rws2s5c0mc7z6b3y_d00000gn/T/ipykernel_26339/4041200657.py:63: UserWarning: Duplicate pressure(s) [13.52] hPa provided. Output profile includes duplicate temperatures as a result.\n",
      "  lfc_pressure1, lfc_temp1 = mpcalc.lfc(pressure1, dry_temp1, dew_point1)\n",
      "/var/folders/lr/66xm8rws2s5c0mc7z6b3y_d00000gn/T/ipykernel_26339/4041200657.py:65: UserWarning: Duplicate pressure(s) [13.52] hPa provided. Output profile includes duplicate temperatures as a result.\n",
      "  surface_cape1, surface_cin1 = mpcalc.surface_based_cape_cin(pressure1, dry_temp1, dew_point1)\n",
      "/var/folders/lr/66xm8rws2s5c0mc7z6b3y_d00000gn/T/ipykernel_26339/4041200657.py:67: UserWarning: Duplicate pressure(s) [13.52] hPa provided. Output profile includes duplicate temperatures as a result.\n",
      "  el1 = mpcalc.el(pressure1, dry_temp1, dew_point1)\n",
      "/var/folders/lr/66xm8rws2s5c0mc7z6b3y_d00000gn/T/ipykernel_26339/4041200657.py:69: UserWarning: Duplicate pressure(s) [13.52] hPa provided. Output profile includes duplicate temperatures as a result.\n",
      "  mu_cape1, mu_cin1 = mpcalc.most_unstable_cape_cin(pressure1, dry_temp1, dew_point1)\n",
      "/var/folders/lr/66xm8rws2s5c0mc7z6b3y_d00000gn/T/ipykernel_26339/4041200657.py:75: UserWarning: Duplicate pressure(s) [20.27] hPa provided. Output profile includes duplicate temperatures as a result.\n",
      "  lfc_pressure2, lfc_temp2 = mpcalc.lfc(pressure2, dry_temp2, dew_point2)\n",
      "/var/folders/lr/66xm8rws2s5c0mc7z6b3y_d00000gn/T/ipykernel_26339/4041200657.py:77: UserWarning: Duplicate pressure(s) [20.27] hPa provided. Output profile includes duplicate temperatures as a result.\n",
      "  surface_cape2, surface_cin2 = mpcalc.surface_based_cape_cin(pressure2, dry_temp2, dew_point2)\n",
      "/var/folders/lr/66xm8rws2s5c0mc7z6b3y_d00000gn/T/ipykernel_26339/4041200657.py:79: UserWarning: Duplicate pressure(s) [20.27] hPa provided. Output profile includes duplicate temperatures as a result.\n",
      "  el2 = mpcalc.el(pressure2, dry_temp2, dew_point2)\n",
      "/var/folders/lr/66xm8rws2s5c0mc7z6b3y_d00000gn/T/ipykernel_26339/4041200657.py:81: UserWarning: Duplicate pressure(s) [20.27] hPa provided. Output profile includes duplicate temperatures as a result.\n",
      "  mu_cape2, mu_cin2 = mpcalc.most_unstable_cape_cin(pressure2, dry_temp2, dew_point2)\n"
     ]
    },
    {
     "name": "stdout",
     "output_type": "stream",
     "text": [
      "Processing housondewnpnM1.b1.20211019.113600.custom.csv and housondewnpnM1.b1.20211019.173300.custom.csv\n"
     ]
    },
    {
     "name": "stderr",
     "output_type": "stream",
     "text": [
      "/var/folders/lr/66xm8rws2s5c0mc7z6b3y_d00000gn/T/ipykernel_26339/4041200657.py:59: UserWarning: Duplicate pressure(s) [13.5] hPa provided. Output profile includes duplicate temperatures as a result.\n",
      "  parcel_path1 = mpcalc.parcel_profile(pressure1, dry_temp1[0], dew_point1[0])\n",
      "/var/folders/lr/66xm8rws2s5c0mc7z6b3y_d00000gn/T/ipykernel_26339/4041200657.py:60: UserWarning: Duplicate pressure(s) [13.01 13.02] hPa provided. Output profile includes duplicate temperatures as a result.\n",
      "  parcel_path2 = mpcalc.parcel_profile(pressure2, dry_temp2[0], dew_point2[0])\n",
      "/var/folders/lr/66xm8rws2s5c0mc7z6b3y_d00000gn/T/ipykernel_26339/4041200657.py:63: UserWarning: Duplicate pressure(s) [13.5] hPa provided. Output profile includes duplicate temperatures as a result.\n",
      "  lfc_pressure1, lfc_temp1 = mpcalc.lfc(pressure1, dry_temp1, dew_point1)\n",
      "/var/folders/lr/66xm8rws2s5c0mc7z6b3y_d00000gn/T/ipykernel_26339/4041200657.py:65: UserWarning: Duplicate pressure(s) [13.5] hPa provided. Output profile includes duplicate temperatures as a result.\n",
      "  surface_cape1, surface_cin1 = mpcalc.surface_based_cape_cin(pressure1, dry_temp1, dew_point1)\n",
      "/var/folders/lr/66xm8rws2s5c0mc7z6b3y_d00000gn/T/ipykernel_26339/4041200657.py:67: UserWarning: Duplicate pressure(s) [13.5] hPa provided. Output profile includes duplicate temperatures as a result.\n",
      "  el1 = mpcalc.el(pressure1, dry_temp1, dew_point1)\n",
      "/var/folders/lr/66xm8rws2s5c0mc7z6b3y_d00000gn/T/ipykernel_26339/4041200657.py:69: UserWarning: Duplicate pressure(s) [13.5] hPa provided. Output profile includes duplicate temperatures as a result.\n",
      "  mu_cape1, mu_cin1 = mpcalc.most_unstable_cape_cin(pressure1, dry_temp1, dew_point1)\n",
      "/var/folders/lr/66xm8rws2s5c0mc7z6b3y_d00000gn/T/ipykernel_26339/4041200657.py:75: UserWarning: Duplicate pressure(s) [13.01 13.02] hPa provided. Output profile includes duplicate temperatures as a result.\n",
      "  lfc_pressure2, lfc_temp2 = mpcalc.lfc(pressure2, dry_temp2, dew_point2)\n",
      "/var/folders/lr/66xm8rws2s5c0mc7z6b3y_d00000gn/T/ipykernel_26339/4041200657.py:77: UserWarning: Duplicate pressure(s) [13.01 13.02] hPa provided. Output profile includes duplicate temperatures as a result.\n",
      "  surface_cape2, surface_cin2 = mpcalc.surface_based_cape_cin(pressure2, dry_temp2, dew_point2)\n",
      "/var/folders/lr/66xm8rws2s5c0mc7z6b3y_d00000gn/T/ipykernel_26339/4041200657.py:79: UserWarning: Duplicate pressure(s) [13.01 13.02] hPa provided. Output profile includes duplicate temperatures as a result.\n",
      "  el2 = mpcalc.el(pressure2, dry_temp2, dew_point2)\n",
      "/var/folders/lr/66xm8rws2s5c0mc7z6b3y_d00000gn/T/ipykernel_26339/4041200657.py:81: UserWarning: Duplicate pressure(s) [13.01 13.02] hPa provided. Output profile includes duplicate temperatures as a result.\n",
      "  mu_cape2, mu_cin2 = mpcalc.most_unstable_cape_cin(pressure2, dry_temp2, dew_point2)\n"
     ]
    },
    {
     "name": "stdout",
     "output_type": "stream",
     "text": [
      "Processing housondewnpnM1.b1.20211009.113400.custom.csv and housondewnpnM1.b1.20211009.173500.custom.csv\n"
     ]
    },
    {
     "name": "stderr",
     "output_type": "stream",
     "text": [
      "/var/folders/lr/66xm8rws2s5c0mc7z6b3y_d00000gn/T/ipykernel_26339/4041200657.py:59: UserWarning: Duplicate pressure(s) [14.68] hPa provided. Output profile includes duplicate temperatures as a result.\n",
      "  parcel_path1 = mpcalc.parcel_profile(pressure1, dry_temp1[0], dew_point1[0])\n",
      "/var/folders/lr/66xm8rws2s5c0mc7z6b3y_d00000gn/T/ipykernel_26339/4041200657.py:60: UserWarning: Duplicate pressure(s) [13.73] hPa provided. Output profile includes duplicate temperatures as a result.\n",
      "  parcel_path2 = mpcalc.parcel_profile(pressure2, dry_temp2[0], dew_point2[0])\n",
      "/var/folders/lr/66xm8rws2s5c0mc7z6b3y_d00000gn/T/ipykernel_26339/4041200657.py:63: UserWarning: Duplicate pressure(s) [14.68] hPa provided. Output profile includes duplicate temperatures as a result.\n",
      "  lfc_pressure1, lfc_temp1 = mpcalc.lfc(pressure1, dry_temp1, dew_point1)\n",
      "/var/folders/lr/66xm8rws2s5c0mc7z6b3y_d00000gn/T/ipykernel_26339/4041200657.py:65: UserWarning: Duplicate pressure(s) [14.68] hPa provided. Output profile includes duplicate temperatures as a result.\n",
      "  surface_cape1, surface_cin1 = mpcalc.surface_based_cape_cin(pressure1, dry_temp1, dew_point1)\n",
      "/var/folders/lr/66xm8rws2s5c0mc7z6b3y_d00000gn/T/ipykernel_26339/4041200657.py:67: UserWarning: Duplicate pressure(s) [14.68] hPa provided. Output profile includes duplicate temperatures as a result.\n",
      "  el1 = mpcalc.el(pressure1, dry_temp1, dew_point1)\n",
      "/var/folders/lr/66xm8rws2s5c0mc7z6b3y_d00000gn/T/ipykernel_26339/4041200657.py:69: UserWarning: Duplicate pressure(s) [14.68] hPa provided. Output profile includes duplicate temperatures as a result.\n",
      "  mu_cape1, mu_cin1 = mpcalc.most_unstable_cape_cin(pressure1, dry_temp1, dew_point1)\n",
      "/var/folders/lr/66xm8rws2s5c0mc7z6b3y_d00000gn/T/ipykernel_26339/4041200657.py:75: UserWarning: Duplicate pressure(s) [13.73] hPa provided. Output profile includes duplicate temperatures as a result.\n",
      "  lfc_pressure2, lfc_temp2 = mpcalc.lfc(pressure2, dry_temp2, dew_point2)\n",
      "/var/folders/lr/66xm8rws2s5c0mc7z6b3y_d00000gn/T/ipykernel_26339/4041200657.py:77: UserWarning: Duplicate pressure(s) [13.73] hPa provided. Output profile includes duplicate temperatures as a result.\n",
      "  surface_cape2, surface_cin2 = mpcalc.surface_based_cape_cin(pressure2, dry_temp2, dew_point2)\n",
      "/var/folders/lr/66xm8rws2s5c0mc7z6b3y_d00000gn/T/ipykernel_26339/4041200657.py:79: UserWarning: Duplicate pressure(s) [13.73] hPa provided. Output profile includes duplicate temperatures as a result.\n",
      "  el2 = mpcalc.el(pressure2, dry_temp2, dew_point2)\n",
      "/var/folders/lr/66xm8rws2s5c0mc7z6b3y_d00000gn/T/ipykernel_26339/4041200657.py:81: UserWarning: Duplicate pressure(s) [13.73] hPa provided. Output profile includes duplicate temperatures as a result.\n",
      "  mu_cape2, mu_cin2 = mpcalc.most_unstable_cape_cin(pressure2, dry_temp2, dew_point2)\n"
     ]
    },
    {
     "name": "stdout",
     "output_type": "stream",
     "text": [
      "Processing housondewnpnM1.b1.20211025.113200.custom.csv and housondewnpnM1.b1.20211025.173700.custom.csv\n"
     ]
    },
    {
     "name": "stderr",
     "output_type": "stream",
     "text": [
      "/var/folders/lr/66xm8rws2s5c0mc7z6b3y_d00000gn/T/ipykernel_26339/4041200657.py:59: UserWarning: Duplicate pressure(s) [21.54] hPa provided. Output profile includes duplicate temperatures as a result.\n",
      "  parcel_path1 = mpcalc.parcel_profile(pressure1, dry_temp1[0], dew_point1[0])\n",
      "/var/folders/lr/66xm8rws2s5c0mc7z6b3y_d00000gn/T/ipykernel_26339/4041200657.py:60: UserWarning: Duplicate pressure(s) [15.66] hPa provided. Output profile includes duplicate temperatures as a result.\n",
      "  parcel_path2 = mpcalc.parcel_profile(pressure2, dry_temp2[0], dew_point2[0])\n",
      "/var/folders/lr/66xm8rws2s5c0mc7z6b3y_d00000gn/T/ipykernel_26339/4041200657.py:63: UserWarning: Duplicate pressure(s) [21.54] hPa provided. Output profile includes duplicate temperatures as a result.\n",
      "  lfc_pressure1, lfc_temp1 = mpcalc.lfc(pressure1, dry_temp1, dew_point1)\n",
      "/var/folders/lr/66xm8rws2s5c0mc7z6b3y_d00000gn/T/ipykernel_26339/4041200657.py:63: UserWarning: Interpolation point out of data bounds encountered\n",
      "  lfc_pressure1, lfc_temp1 = mpcalc.lfc(pressure1, dry_temp1, dew_point1)\n",
      "/var/folders/lr/66xm8rws2s5c0mc7z6b3y_d00000gn/T/ipykernel_26339/4041200657.py:65: UserWarning: Duplicate pressure(s) [21.54] hPa provided. Output profile includes duplicate temperatures as a result.\n",
      "  surface_cape1, surface_cin1 = mpcalc.surface_based_cape_cin(pressure1, dry_temp1, dew_point1)\n",
      "/var/folders/lr/66xm8rws2s5c0mc7z6b3y_d00000gn/T/ipykernel_26339/4041200657.py:65: UserWarning: Interpolation point out of data bounds encountered\n",
      "  surface_cape1, surface_cin1 = mpcalc.surface_based_cape_cin(pressure1, dry_temp1, dew_point1)\n",
      "/var/folders/lr/66xm8rws2s5c0mc7z6b3y_d00000gn/T/ipykernel_26339/4041200657.py:67: UserWarning: Duplicate pressure(s) [21.54] hPa provided. Output profile includes duplicate temperatures as a result.\n",
      "  el1 = mpcalc.el(pressure1, dry_temp1, dew_point1)\n",
      "/var/folders/lr/66xm8rws2s5c0mc7z6b3y_d00000gn/T/ipykernel_26339/4041200657.py:67: UserWarning: Interpolation point out of data bounds encountered\n",
      "  el1 = mpcalc.el(pressure1, dry_temp1, dew_point1)\n",
      "/var/folders/lr/66xm8rws2s5c0mc7z6b3y_d00000gn/T/ipykernel_26339/4041200657.py:69: UserWarning: Duplicate pressure(s) [21.54] hPa provided. Output profile includes duplicate temperatures as a result.\n",
      "  mu_cape1, mu_cin1 = mpcalc.most_unstable_cape_cin(pressure1, dry_temp1, dew_point1)\n",
      "/var/folders/lr/66xm8rws2s5c0mc7z6b3y_d00000gn/T/ipykernel_26339/4041200657.py:75: UserWarning: Duplicate pressure(s) [15.66] hPa provided. Output profile includes duplicate temperatures as a result.\n",
      "  lfc_pressure2, lfc_temp2 = mpcalc.lfc(pressure2, dry_temp2, dew_point2)\n",
      "/var/folders/lr/66xm8rws2s5c0mc7z6b3y_d00000gn/T/ipykernel_26339/4041200657.py:77: UserWarning: Duplicate pressure(s) [15.66] hPa provided. Output profile includes duplicate temperatures as a result.\n",
      "  surface_cape2, surface_cin2 = mpcalc.surface_based_cape_cin(pressure2, dry_temp2, dew_point2)\n",
      "/var/folders/lr/66xm8rws2s5c0mc7z6b3y_d00000gn/T/ipykernel_26339/4041200657.py:79: UserWarning: Duplicate pressure(s) [15.66] hPa provided. Output profile includes duplicate temperatures as a result.\n",
      "  el2 = mpcalc.el(pressure2, dry_temp2, dew_point2)\n",
      "/var/folders/lr/66xm8rws2s5c0mc7z6b3y_d00000gn/T/ipykernel_26339/4041200657.py:81: UserWarning: Duplicate pressure(s) [15.66] hPa provided. Output profile includes duplicate temperatures as a result.\n",
      "  mu_cape2, mu_cin2 = mpcalc.most_unstable_cape_cin(pressure2, dry_temp2, dew_point2)\n"
     ]
    },
    {
     "name": "stdout",
     "output_type": "stream",
     "text": [
      "Processing housondewnpnM1.b1.20211030.113100.custom.csv and housondewnpnM1.b1.20211030.173300.custom.csv\n",
      "Processing housondewnpnM1.b1.20211011.114200.custom.csv and housondewnpnM1.b1.20211011.173500.custom.csv\n"
     ]
    },
    {
     "name": "stderr",
     "output_type": "stream",
     "text": [
      "/var/folders/lr/66xm8rws2s5c0mc7z6b3y_d00000gn/T/ipykernel_26339/4041200657.py:59: UserWarning: Duplicate pressure(s) [16.55] hPa provided. Output profile includes duplicate temperatures as a result.\n",
      "  parcel_path1 = mpcalc.parcel_profile(pressure1, dry_temp1[0], dew_point1[0])\n",
      "/var/folders/lr/66xm8rws2s5c0mc7z6b3y_d00000gn/T/ipykernel_26339/4041200657.py:63: UserWarning: Duplicate pressure(s) [16.55] hPa provided. Output profile includes duplicate temperatures as a result.\n",
      "  lfc_pressure1, lfc_temp1 = mpcalc.lfc(pressure1, dry_temp1, dew_point1)\n",
      "/var/folders/lr/66xm8rws2s5c0mc7z6b3y_d00000gn/T/ipykernel_26339/4041200657.py:65: UserWarning: Duplicate pressure(s) [16.55] hPa provided. Output profile includes duplicate temperatures as a result.\n",
      "  surface_cape1, surface_cin1 = mpcalc.surface_based_cape_cin(pressure1, dry_temp1, dew_point1)\n",
      "/var/folders/lr/66xm8rws2s5c0mc7z6b3y_d00000gn/T/ipykernel_26339/4041200657.py:67: UserWarning: Duplicate pressure(s) [16.55] hPa provided. Output profile includes duplicate temperatures as a result.\n",
      "  el1 = mpcalc.el(pressure1, dry_temp1, dew_point1)\n",
      "/var/folders/lr/66xm8rws2s5c0mc7z6b3y_d00000gn/T/ipykernel_26339/4041200657.py:69: UserWarning: Duplicate pressure(s) [16.55] hPa provided. Output profile includes duplicate temperatures as a result.\n",
      "  mu_cape1, mu_cin1 = mpcalc.most_unstable_cape_cin(pressure1, dry_temp1, dew_point1)\n"
     ]
    },
    {
     "name": "stdout",
     "output_type": "stream",
     "text": [
      "Processing housondewnpnM1.b1.20211004.113600.custom.csv and housondewnpnM1.b1.20211004.174300.custom.csv\n",
      "Processing housondewnpnM1.b1.20211008.113300.custom.csv and housondewnpnM1.b1.20211008.173400.custom.csv\n"
     ]
    },
    {
     "name": "stderr",
     "output_type": "stream",
     "text": [
      "/var/folders/lr/66xm8rws2s5c0mc7z6b3y_d00000gn/T/ipykernel_26339/4041200657.py:59: UserWarning: Duplicate pressure(s) [19.05] hPa provided. Output profile includes duplicate temperatures as a result.\n",
      "  parcel_path1 = mpcalc.parcel_profile(pressure1, dry_temp1[0], dew_point1[0])\n",
      "/var/folders/lr/66xm8rws2s5c0mc7z6b3y_d00000gn/T/ipykernel_26339/4041200657.py:60: UserWarning: Duplicate pressure(s) [13.54] hPa provided. Output profile includes duplicate temperatures as a result.\n",
      "  parcel_path2 = mpcalc.parcel_profile(pressure2, dry_temp2[0], dew_point2[0])\n",
      "/var/folders/lr/66xm8rws2s5c0mc7z6b3y_d00000gn/T/ipykernel_26339/4041200657.py:63: UserWarning: Duplicate pressure(s) [19.05] hPa provided. Output profile includes duplicate temperatures as a result.\n",
      "  lfc_pressure1, lfc_temp1 = mpcalc.lfc(pressure1, dry_temp1, dew_point1)\n",
      "/var/folders/lr/66xm8rws2s5c0mc7z6b3y_d00000gn/T/ipykernel_26339/4041200657.py:65: UserWarning: Duplicate pressure(s) [19.05] hPa provided. Output profile includes duplicate temperatures as a result.\n",
      "  surface_cape1, surface_cin1 = mpcalc.surface_based_cape_cin(pressure1, dry_temp1, dew_point1)\n",
      "/var/folders/lr/66xm8rws2s5c0mc7z6b3y_d00000gn/T/ipykernel_26339/4041200657.py:67: UserWarning: Duplicate pressure(s) [19.05] hPa provided. Output profile includes duplicate temperatures as a result.\n",
      "  el1 = mpcalc.el(pressure1, dry_temp1, dew_point1)\n",
      "/var/folders/lr/66xm8rws2s5c0mc7z6b3y_d00000gn/T/ipykernel_26339/4041200657.py:69: UserWarning: Duplicate pressure(s) [19.05] hPa provided. Output profile includes duplicate temperatures as a result.\n",
      "  mu_cape1, mu_cin1 = mpcalc.most_unstable_cape_cin(pressure1, dry_temp1, dew_point1)\n",
      "/var/folders/lr/66xm8rws2s5c0mc7z6b3y_d00000gn/T/ipykernel_26339/4041200657.py:75: UserWarning: Duplicate pressure(s) [13.54] hPa provided. Output profile includes duplicate temperatures as a result.\n",
      "  lfc_pressure2, lfc_temp2 = mpcalc.lfc(pressure2, dry_temp2, dew_point2)\n",
      "/var/folders/lr/66xm8rws2s5c0mc7z6b3y_d00000gn/T/ipykernel_26339/4041200657.py:77: UserWarning: Duplicate pressure(s) [13.54] hPa provided. Output profile includes duplicate temperatures as a result.\n",
      "  surface_cape2, surface_cin2 = mpcalc.surface_based_cape_cin(pressure2, dry_temp2, dew_point2)\n",
      "/var/folders/lr/66xm8rws2s5c0mc7z6b3y_d00000gn/T/ipykernel_26339/4041200657.py:79: UserWarning: Duplicate pressure(s) [13.54] hPa provided. Output profile includes duplicate temperatures as a result.\n",
      "  el2 = mpcalc.el(pressure2, dry_temp2, dew_point2)\n",
      "/var/folders/lr/66xm8rws2s5c0mc7z6b3y_d00000gn/T/ipykernel_26339/4041200657.py:81: UserWarning: Duplicate pressure(s) [13.54] hPa provided. Output profile includes duplicate temperatures as a result.\n",
      "  mu_cape2, mu_cin2 = mpcalc.most_unstable_cape_cin(pressure2, dry_temp2, dew_point2)\n"
     ]
    }
   ],
   "source": [
    "overlapping_skewTs(input_folder, output_folder)"
   ]
  }
 ],
 "metadata": {
  "kernelspec": {
   "display_name": "Python 3 (ipykernel)",
   "language": "python",
   "name": "python3"
  },
  "language_info": {
   "codemirror_mode": {
    "name": "ipython",
    "version": 3
   },
   "file_extension": ".py",
   "mimetype": "text/x-python",
   "name": "python",
   "nbconvert_exporter": "python",
   "pygments_lexer": "ipython3",
   "version": "3.12.2"
  }
 },
 "nbformat": 4,
 "nbformat_minor": 5
}
